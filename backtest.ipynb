{
 "cells": [
  {
   "cell_type": "code",
   "id": "initial_id",
   "metadata": {
    "ExecuteTime": {
     "end_time": "2024-07-31T12:36:26.245891Z",
     "start_time": "2024-07-31T12:36:23.523768Z"
    }
   },
   "source": [
    "from typing import Optional, TypeVar, Callable, Optional, Tuple\n",
    "import os\n",
    "import pickle\n",
    "import warnings\n",
    "import pandas as pd\n",
    "from pandas import DataFrame\n",
    "from qlib.backtest import backtest, executor as exec\n",
    "from qlib.contrib.evaluate import risk_analysis\n",
    "from qlib.contrib.report.analysis_position import report_graph\n",
    "from alphagen.data.expression import *\n",
    "\n",
    "from alphagen_qlib.stock_data import StockData\n",
    "from alphagen_generic.features import *\n",
    "from alphagen_qlib.strategy import TopKSwapNStrategy\n",
    "from alphagen_qlib.neutral_strategy import MarketNeutralStrategy\n",
    "from lightgbm import LGBMRegressor\n",
    "\n",
    "import json\n",
    "\n",
    "_T = TypeVar(\"_T\")"
   ],
   "outputs": [],
   "execution_count": 1
  },
  {
   "cell_type": "code",
   "id": "d50b6d62-7763-49ad-9005-d66e9c34c0fc",
   "metadata": {
    "ExecuteTime": {
     "end_time": "2024-07-31T12:36:26.261898Z",
     "start_time": "2024-07-31T12:36:26.246895Z"
    }
   },
   "source": [
    "def _create_parents(path: str) -> None:\n",
    "    dir = os.path.dirname(path)\n",
    "    if dir != \"\":\n",
    "        os.makedirs(dir, exist_ok=True)\n",
    "\n",
    "\n",
    "def write_all_text(path: str, text: str) -> None:\n",
    "    _create_parents(path)\n",
    "    with open(path, \"w\") as f:\n",
    "        f.write(text)\n",
    "\n",
    "\n",
    "def dump_pickle(path: str,\n",
    "                factory: Callable[[], _T],\n",
    "                invalidate_cache: bool = False) -> Optional[_T]:\n",
    "    if invalidate_cache or not os.path.exists(path):\n",
    "        _create_parents(path)\n",
    "        obj = factory()\n",
    "        with open(path, \"wb\") as f:\n",
    "            pickle.dump(obj, f)\n",
    "        return obj\n"
   ],
   "outputs": [],
   "execution_count": 2
  },
  {
   "cell_type": "code",
   "id": "3919423ff75d6080",
   "metadata": {
    "ExecuteTime": {
     "end_time": "2024-07-31T12:36:26.277308Z",
     "start_time": "2024-07-31T12:36:26.263308Z"
    }
   },
   "source": [
    "class BacktestResult(dict):\n",
    "    sharpe: float\n",
    "    annual_return: float\n",
    "    max_drawdown: float\n",
    "    information_ratio: float\n",
    "    annual_excess_return: float\n",
    "    excess_max_drawdown: float\n",
    "\n",
    "\n",
    "class QlibBacktest:\n",
    "    def __init__(\n",
    "        self,\n",
    "        benchmark: str = \"SH000905\",\n",
    "        top_k: int = 50,\n",
    "        n_drop: Optional[int] = None,\n",
    "        deal: str = \"close\",\n",
    "        open_cost: float = 0.0015,\n",
    "        close_cost: float = 0.0015,\n",
    "        min_cost: float = 5,\n",
    "    ):\n",
    "        self._benchmark = benchmark\n",
    "        self._top_k = top_k\n",
    "        self._n_drop = n_drop if n_drop is not None else top_k\n",
    "        self._deal_price = deal\n",
    "        self._open_cost = open_cost\n",
    "        self._close_cost = close_cost\n",
    "        self._min_cost = min_cost\n",
    "\n",
    "    def run(\n",
    "        self,\n",
    "        prediction: pd.Series,\n",
    "        output_prefix: Optional[str] = '~/backtest',\n",
    "        return_report: bool = False\n",
    "    ) -> BacktestResult:\n",
    "        prediction = prediction.sort_index()\n",
    "        index: pd.MultiIndex = prediction.index.remove_unused_levels()  # type: ignore\n",
    "        dates = index.levels[0]\n",
    "\n",
    "        def backtest_impl(last: int = -1):\n",
    "            with warnings.catch_warnings():\n",
    "                warnings.simplefilter(\"ignore\")\n",
    "                strategy=TopKSwapNStrategy(\n",
    "                    K=self._top_k,\n",
    "                    n_swap=self._top_k,\n",
    "                    signal=prediction,\n",
    "                    min_hold_days=1,\n",
    "                    only_tradable=True,\n",
    "                )\n",
    "                executor=exec.SimulatorExecutor(\n",
    "                    time_per_step=\"day\",\n",
    "                    generate_portfolio_metrics=True\n",
    "                )\n",
    "                return backtest(\n",
    "                    strategy=strategy,\n",
    "                    executor=executor,\n",
    "                    start_time=dates[0],\n",
    "                    end_time=dates[last],\n",
    "                    account=5_000_000,\n",
    "                    benchmark=self._benchmark,\n",
    "                    exchange_kwargs={\n",
    "                        \"limit_threshold\": 0.095,\n",
    "                        \"deal_price\": self._deal_price,\n",
    "                        \"open_cost\": self._open_cost,\n",
    "                        \"close_cost\": self._close_cost,\n",
    "                        \"min_cost\": self._min_cost,\n",
    "                    }\n",
    "                )[0]\n",
    "\n",
    "        try:\n",
    "            portfolio_metric = backtest_impl()\n",
    "        except IndexError:\n",
    "            print(\"Cannot backtest till the last day, trying again with one less day\")\n",
    "            portfolio_metric = backtest_impl(-2)\n",
    "\n",
    "        report, _ = portfolio_metric[\"1day\"]    # type: ignore\n",
    "        result = self._analyze_report(report)\n",
    "        \n",
    "        try: \n",
    "            report_graph(report)\n",
    "        except Exception as e:\n",
    "            print(f\"Failed to generate report graph: {e}\")\n",
    "\n",
    "        if output_prefix is not None:\n",
    "            dump_pickle(output_prefix + \"/report.pkl\", lambda: report, True)\n",
    "            # dump_pickle(output_prefix + \"/graph.pkl\", lambda: graph, True)\n",
    "            result_json = json.dumps(result, indent=4)\n",
    "            write_all_text(output_prefix + \"/result.json\", result_json)\n",
    "\n",
    "        print(report)\n",
    "        print(result)\n",
    "        return report if return_report else result\n",
    "\n",
    "    def _analyze_report(self, report: pd.DataFrame) -> BacktestResult:\n",
    "        excess = risk_analysis(report[\"return\"] - report[\"bench\"] - report[\"cost\"])[\"risk\"]\n",
    "        returns = risk_analysis(report[\"return\"] - report[\"cost\"])[\"risk\"]\n",
    "\n",
    "        def loc(series: pd.Series, field: str) -> float:\n",
    "            return series.loc[field]    # type: ignore\n",
    "\n",
    "        return BacktestResult(\n",
    "            sharpe=loc(returns, \"information_ratio\"),\n",
    "            annual_return=loc(returns, \"annualized_return\"),\n",
    "            max_drawdown=loc(returns, \"max_drawdown\"),\n",
    "            information_ratio=loc(excess, \"information_ratio\"),\n",
    "            annual_excess_return=loc(excess, \"annualized_return\"),\n",
    "            excess_max_drawdown=loc(excess, \"max_drawdown\"),\n",
    "        )\n",
    "    \n"
   ],
   "outputs": [],
   "execution_count": 3
  },
  {
   "cell_type": "code",
   "id": "6b8daf26b3e84e8d",
   "metadata": {
    "ExecuteTime": {
     "end_time": "2024-07-31T12:36:26.293309Z",
     "start_time": "2024-07-31T12:36:26.278309Z"
    }
   },
   "source": [
    "import numpy as np\n",
    "from lightgbm import Booster\n",
    "from alphagen_qlib.utils import load_alpha_pool_by_path, load_dt_model_by_path\n",
    "from alphagen_qlib.calculator import QLibStockDataCalculator\n",
    "from alphagen.utils.pytorch_utils import normalize_by_day\n",
    "from alphagen.data.calculator import AlphaCalculator\n",
    "from alphagen.utils.correlation import batch_pearsonr, batch_spearmanr"
   ],
   "outputs": [],
   "execution_count": 4
  },
  {
   "cell_type": "code",
   "id": "9b91162a-2d16-493f-81cd-1428b19b4086",
   "metadata": {
    "ExecuteTime": {
     "end_time": "2024-07-31T12:36:26.309324Z",
     "start_time": "2024-07-31T12:36:26.294308Z"
    }
   },
   "source": [
    "def make_ensemble_alpha(exprs: List[Expression], model: Booster) -> Tensor:\n",
    "    n = len(exprs)\n",
    "    return torch.from_numpy(predict(model, exprs)).to(data.device)\n",
    "\n",
    "def predict(model: Booster, exprs: List[Expression]) -> np.ndarray:\n",
    "    X = torch.stack([_calc_alpha(expr) for expr in exprs], dim=-1).cpu().numpy()\n",
    "    X = X.reshape(-1, X.shape[-1])\n",
    "    val = model.predict(X)\n",
    "    return unstack(val)\n",
    "\n",
    "def unstack(value: np.ndarray) -> np.ndarray:\n",
    "    return value.reshape(data.n_days, data.n_stocks)\n",
    "\n",
    "def _calc_alpha(expr: Expression) -> Tensor:\n",
    "    return normalize_by_day(expr.evaluate(data))\n",
    "\n",
    "def _calc_ICs(value1: Tensor, value2: Tensor) -> Tensor:\n",
    "    return batch_pearsonr(value1, value2)\n",
    "\n",
    "def _calc_IC(value1: Tensor, value2: Tensor) -> float:\n",
    "    return batch_pearsonr(value1, value2).mean().item()\n",
    "\n",
    "def _calc_IR(value1: Tensor, value2: Tensor) -> float:\n",
    "    ICs = _calc_ICs(value1, value2)\n",
    "    IC_mean = ICs.mean().item()\n",
    "    IC_std = ICs.std().item()\n",
    "    epsilon = 1e-10  # 防止除以零的小值\n",
    "    IR = IC_mean / (IC_std - epsilon)\n",
    "    return IR\n",
    "\n",
    "def test_ensemble(exprs: List[Expression], model: Booster, calculator: AlphaCalculator) -> Tuple[float, float]:\n",
    "    return calc_pool_all_ret(exprs, calculator.target_value, model)\n",
    "\n",
    "def calc_pool_all_ret(exprs: List[Expression], target: Tensor, model: Booster) -> Tuple[float, float]:\n",
    "    with torch.no_grad():\n",
    "        ensemble_value = make_ensemble_alpha(exprs, model)\n",
    "        return _calc_IC(ensemble_value, target), _calc_IR(ensemble_value, target)"
   ],
   "outputs": [],
   "execution_count": 5
  },
  {
   "cell_type": "code",
   "id": "c8614105-2163-4a0d-a1ab-357efef5ab3c",
   "metadata": {
    "scrolled": true,
    "ExecuteTime": {
     "end_time": "2024-07-31T12:40:11.822611Z",
     "start_time": "2024-07-31T12:39:27.434965Z"
    }
   },
   "source": [
    "POOL_PATH = 'model/10240_steps_pool.json'\n",
    "DT_PATH = 'model/10240_steps_dt.txt'\n",
    "\n",
    "qlib_backtest = QlibBacktest()\n",
    "\n",
    "data = StockData(instrument='csi500',\n",
    "                 start_time='2023-06-01',\n",
    "                 end_time='2024-07-01')\n",
    "\n",
    "close = Feature(FeatureType.CLOSE)\n",
    "target = Ref(close, -20) / close - 1\n",
    "\n",
    "calculator = QLibStockDataCalculator(data=data, target=target)\n",
    "exprs, _ = load_alpha_pool_by_path(POOL_PATH)\n",
    "booster = load_dt_model_by_path(DT_PATH)\n",
    "\n",
    "ensemble_alpha = make_ensemble_alpha(exprs, booster)\n",
    "df = data.make_dataframe(ensemble_alpha)\n",
    "\n",
    "print(test_ensemble(exprs, booster, calculator))\n",
    "\n",
    "qlib_backtest.run(df)"
   ],
   "outputs": [
    {
     "name": "stderr",
     "output_type": "stream",
     "text": [
      "[18520:MainThread](2024-07-31 20:39:55,908) WARNING - qlib.BaseExecutor - [executor.py:121] - `common_infra` is not set for <qlib.backtest.executor.SimulatorExecutor object at 0x000001AE0D9DEB50>\n",
      "[18520:MainThread](2024-07-31 20:39:55,923) INFO - qlib.backtest caller - [__init__.py:93] - Create new exchange\n"
     ]
    },
    {
     "name": "stdout",
     "output_type": "stream",
     "text": [
      "(0.26342313912419535, 1.1670115509461398)\n"
     ]
    },
    {
     "ename": "KeyboardInterrupt",
     "evalue": "",
     "output_type": "error",
     "traceback": [
      "\u001B[1;31m---------------------------------------------------------------------------\u001B[0m",
      "\u001B[1;31mTypeError\u001B[0m                                 Traceback (most recent call last)",
      "File \u001B[1;32m~\\anaconda3\\envs\\alphagen\\lib\\site-packages\\qlib\\data\\data.py:1186\u001B[0m, in \u001B[0;36mBaseProvider.features\u001B[1;34m(self, instruments, fields, start_time, end_time, freq, disk_cache, inst_processors)\u001B[0m\n\u001B[0;32m   1185\u001B[0m \u001B[38;5;28;01mtry\u001B[39;00m:\n\u001B[1;32m-> 1186\u001B[0m     \u001B[38;5;28;01mreturn\u001B[39;00m \u001B[43mDatasetD\u001B[49m\u001B[38;5;241;43m.\u001B[39;49m\u001B[43mdataset\u001B[49m\u001B[43m(\u001B[49m\n\u001B[0;32m   1187\u001B[0m \u001B[43m        \u001B[49m\u001B[43minstruments\u001B[49m\u001B[43m,\u001B[49m\u001B[43m \u001B[49m\u001B[43mfields\u001B[49m\u001B[43m,\u001B[49m\u001B[43m \u001B[49m\u001B[43mstart_time\u001B[49m\u001B[43m,\u001B[49m\u001B[43m \u001B[49m\u001B[43mend_time\u001B[49m\u001B[43m,\u001B[49m\u001B[43m \u001B[49m\u001B[43mfreq\u001B[49m\u001B[43m,\u001B[49m\u001B[43m \u001B[49m\u001B[43mdisk_cache\u001B[49m\u001B[43m,\u001B[49m\u001B[43m \u001B[49m\u001B[43minst_processors\u001B[49m\u001B[38;5;241;43m=\u001B[39;49m\u001B[43minst_processors\u001B[49m\n\u001B[0;32m   1188\u001B[0m \u001B[43m    \u001B[49m\u001B[43m)\u001B[49m\n\u001B[0;32m   1189\u001B[0m \u001B[38;5;28;01mexcept\u001B[39;00m \u001B[38;5;167;01mTypeError\u001B[39;00m:\n",
      "\u001B[1;31mTypeError\u001B[0m: dataset() got multiple values for argument 'inst_processors'",
      "\nDuring handling of the above exception, another exception occurred:\n",
      "\u001B[1;31mKeyboardInterrupt\u001B[0m                         Traceback (most recent call last)",
      "Cell \u001B[1;32mIn[8], line 22\u001B[0m\n\u001B[0;32m     18\u001B[0m df \u001B[38;5;241m=\u001B[39m data\u001B[38;5;241m.\u001B[39mmake_dataframe(ensemble_alpha)\n\u001B[0;32m     20\u001B[0m \u001B[38;5;28mprint\u001B[39m(test_ensemble(exprs, booster, calculator))\n\u001B[1;32m---> 22\u001B[0m \u001B[43mqlib_backtest\u001B[49m\u001B[38;5;241;43m.\u001B[39;49m\u001B[43mrun\u001B[49m\u001B[43m(\u001B[49m\u001B[43mdf\u001B[49m\u001B[43m)\u001B[49m\n",
      "Cell \u001B[1;32mIn[3], line 70\u001B[0m, in \u001B[0;36mQlibBacktest.run\u001B[1;34m(self, prediction, output_prefix, return_report)\u001B[0m\n\u001B[0;32m     53\u001B[0m         \u001B[38;5;28;01mreturn\u001B[39;00m backtest(\n\u001B[0;32m     54\u001B[0m             strategy\u001B[38;5;241m=\u001B[39mstrategy,\n\u001B[0;32m     55\u001B[0m             executor\u001B[38;5;241m=\u001B[39mexecutor,\n\u001B[1;32m   (...)\u001B[0m\n\u001B[0;32m     66\u001B[0m             }\n\u001B[0;32m     67\u001B[0m         )[\u001B[38;5;241m0\u001B[39m]\n\u001B[0;32m     69\u001B[0m \u001B[38;5;28;01mtry\u001B[39;00m:\n\u001B[1;32m---> 70\u001B[0m     portfolio_metric \u001B[38;5;241m=\u001B[39m \u001B[43mbacktest_impl\u001B[49m\u001B[43m(\u001B[49m\u001B[43m)\u001B[49m\n\u001B[0;32m     71\u001B[0m \u001B[38;5;28;01mexcept\u001B[39;00m \u001B[38;5;167;01mIndexError\u001B[39;00m:\n\u001B[0;32m     72\u001B[0m     \u001B[38;5;28mprint\u001B[39m(\u001B[38;5;124m\"\u001B[39m\u001B[38;5;124mCannot backtest till the last day, trying again with one less day\u001B[39m\u001B[38;5;124m\"\u001B[39m)\n",
      "Cell \u001B[1;32mIn[3], line 53\u001B[0m, in \u001B[0;36mQlibBacktest.run.<locals>.backtest_impl\u001B[1;34m(last)\u001B[0m\n\u001B[0;32m     42\u001B[0m strategy\u001B[38;5;241m=\u001B[39mTopKSwapNStrategy(\n\u001B[0;32m     43\u001B[0m     K\u001B[38;5;241m=\u001B[39m\u001B[38;5;28mself\u001B[39m\u001B[38;5;241m.\u001B[39m_top_k,\n\u001B[0;32m     44\u001B[0m     n_swap\u001B[38;5;241m=\u001B[39m\u001B[38;5;28mself\u001B[39m\u001B[38;5;241m.\u001B[39m_top_k,\n\u001B[1;32m   (...)\u001B[0m\n\u001B[0;32m     47\u001B[0m     only_tradable\u001B[38;5;241m=\u001B[39m\u001B[38;5;28;01mTrue\u001B[39;00m,\n\u001B[0;32m     48\u001B[0m )\n\u001B[0;32m     49\u001B[0m executor\u001B[38;5;241m=\u001B[39mexec\u001B[38;5;241m.\u001B[39mSimulatorExecutor(\n\u001B[0;32m     50\u001B[0m     time_per_step\u001B[38;5;241m=\u001B[39m\u001B[38;5;124m\"\u001B[39m\u001B[38;5;124mday\u001B[39m\u001B[38;5;124m\"\u001B[39m,\n\u001B[0;32m     51\u001B[0m     generate_portfolio_metrics\u001B[38;5;241m=\u001B[39m\u001B[38;5;28;01mTrue\u001B[39;00m\n\u001B[0;32m     52\u001B[0m )\n\u001B[1;32m---> 53\u001B[0m \u001B[38;5;28;01mreturn\u001B[39;00m \u001B[43mbacktest\u001B[49m\u001B[43m(\u001B[49m\n\u001B[0;32m     54\u001B[0m \u001B[43m    \u001B[49m\u001B[43mstrategy\u001B[49m\u001B[38;5;241;43m=\u001B[39;49m\u001B[43mstrategy\u001B[49m\u001B[43m,\u001B[49m\n\u001B[0;32m     55\u001B[0m \u001B[43m    \u001B[49m\u001B[43mexecutor\u001B[49m\u001B[38;5;241;43m=\u001B[39;49m\u001B[43mexecutor\u001B[49m\u001B[43m,\u001B[49m\n\u001B[0;32m     56\u001B[0m \u001B[43m    \u001B[49m\u001B[43mstart_time\u001B[49m\u001B[38;5;241;43m=\u001B[39;49m\u001B[43mdates\u001B[49m\u001B[43m[\u001B[49m\u001B[38;5;241;43m0\u001B[39;49m\u001B[43m]\u001B[49m\u001B[43m,\u001B[49m\n\u001B[0;32m     57\u001B[0m \u001B[43m    \u001B[49m\u001B[43mend_time\u001B[49m\u001B[38;5;241;43m=\u001B[39;49m\u001B[43mdates\u001B[49m\u001B[43m[\u001B[49m\u001B[43mlast\u001B[49m\u001B[43m]\u001B[49m\u001B[43m,\u001B[49m\n\u001B[0;32m     58\u001B[0m \u001B[43m    \u001B[49m\u001B[43maccount\u001B[49m\u001B[38;5;241;43m=\u001B[39;49m\u001B[38;5;241;43m5_000_000\u001B[39;49m\u001B[43m,\u001B[49m\n\u001B[0;32m     59\u001B[0m \u001B[43m    \u001B[49m\u001B[43mbenchmark\u001B[49m\u001B[38;5;241;43m=\u001B[39;49m\u001B[38;5;28;43mself\u001B[39;49m\u001B[38;5;241;43m.\u001B[39;49m\u001B[43m_benchmark\u001B[49m\u001B[43m,\u001B[49m\n\u001B[0;32m     60\u001B[0m \u001B[43m    \u001B[49m\u001B[43mexchange_kwargs\u001B[49m\u001B[38;5;241;43m=\u001B[39;49m\u001B[43m{\u001B[49m\n\u001B[0;32m     61\u001B[0m \u001B[43m        \u001B[49m\u001B[38;5;124;43m\"\u001B[39;49m\u001B[38;5;124;43mlimit_threshold\u001B[39;49m\u001B[38;5;124;43m\"\u001B[39;49m\u001B[43m:\u001B[49m\u001B[43m \u001B[49m\u001B[38;5;241;43m0.095\u001B[39;49m\u001B[43m,\u001B[49m\n\u001B[0;32m     62\u001B[0m \u001B[43m        \u001B[49m\u001B[38;5;124;43m\"\u001B[39;49m\u001B[38;5;124;43mdeal_price\u001B[39;49m\u001B[38;5;124;43m\"\u001B[39;49m\u001B[43m:\u001B[49m\u001B[43m \u001B[49m\u001B[38;5;28;43mself\u001B[39;49m\u001B[38;5;241;43m.\u001B[39;49m\u001B[43m_deal_price\u001B[49m\u001B[43m,\u001B[49m\n\u001B[0;32m     63\u001B[0m \u001B[43m        \u001B[49m\u001B[38;5;124;43m\"\u001B[39;49m\u001B[38;5;124;43mopen_cost\u001B[39;49m\u001B[38;5;124;43m\"\u001B[39;49m\u001B[43m:\u001B[49m\u001B[43m \u001B[49m\u001B[38;5;28;43mself\u001B[39;49m\u001B[38;5;241;43m.\u001B[39;49m\u001B[43m_open_cost\u001B[49m\u001B[43m,\u001B[49m\n\u001B[0;32m     64\u001B[0m \u001B[43m        \u001B[49m\u001B[38;5;124;43m\"\u001B[39;49m\u001B[38;5;124;43mclose_cost\u001B[39;49m\u001B[38;5;124;43m\"\u001B[39;49m\u001B[43m:\u001B[49m\u001B[43m \u001B[49m\u001B[38;5;28;43mself\u001B[39;49m\u001B[38;5;241;43m.\u001B[39;49m\u001B[43m_close_cost\u001B[49m\u001B[43m,\u001B[49m\n\u001B[0;32m     65\u001B[0m \u001B[43m        \u001B[49m\u001B[38;5;124;43m\"\u001B[39;49m\u001B[38;5;124;43mmin_cost\u001B[39;49m\u001B[38;5;124;43m\"\u001B[39;49m\u001B[43m:\u001B[49m\u001B[43m \u001B[49m\u001B[38;5;28;43mself\u001B[39;49m\u001B[38;5;241;43m.\u001B[39;49m\u001B[43m_min_cost\u001B[49m\u001B[43m,\u001B[49m\n\u001B[0;32m     66\u001B[0m \u001B[43m    \u001B[49m\u001B[43m}\u001B[49m\n\u001B[0;32m     67\u001B[0m \u001B[43m\u001B[49m\u001B[43m)\u001B[49m[\u001B[38;5;241m0\u001B[39m]\n",
      "File \u001B[1;32m~\\anaconda3\\envs\\alphagen\\lib\\site-packages\\qlib\\backtest\\__init__.py:266\u001B[0m, in \u001B[0;36mbacktest\u001B[1;34m(start_time, end_time, strategy, executor, benchmark, account, exchange_kwargs, pos_type)\u001B[0m\n\u001B[0;32m    217\u001B[0m \u001B[38;5;28;01mdef\u001B[39;00m \u001B[38;5;21mbacktest\u001B[39m(\n\u001B[0;32m    218\u001B[0m     start_time: Union[pd\u001B[38;5;241m.\u001B[39mTimestamp, \u001B[38;5;28mstr\u001B[39m],\n\u001B[0;32m    219\u001B[0m     end_time: Union[pd\u001B[38;5;241m.\u001B[39mTimestamp, \u001B[38;5;28mstr\u001B[39m],\n\u001B[1;32m   (...)\u001B[0m\n\u001B[0;32m    225\u001B[0m     pos_type: \u001B[38;5;28mstr\u001B[39m \u001B[38;5;241m=\u001B[39m \u001B[38;5;124m\"\u001B[39m\u001B[38;5;124mPosition\u001B[39m\u001B[38;5;124m\"\u001B[39m,\n\u001B[0;32m    226\u001B[0m ) \u001B[38;5;241m-\u001B[39m\u001B[38;5;241m>\u001B[39m Tuple[PORT_METRIC, INDICATOR_METRIC]:\n\u001B[0;32m    227\u001B[0m \u001B[38;5;250m    \u001B[39m\u001B[38;5;124;03m\"\"\"initialize the strategy and executor, then backtest function for the interaction of the outermost strategy and\u001B[39;00m\n\u001B[0;32m    228\u001B[0m \u001B[38;5;124;03m    executor in the nested decision execution\u001B[39;00m\n\u001B[0;32m    229\u001B[0m \n\u001B[1;32m   (...)\u001B[0m\n\u001B[0;32m    264\u001B[0m \n\u001B[0;32m    265\u001B[0m \u001B[38;5;124;03m    \"\"\"\u001B[39;00m\n\u001B[1;32m--> 266\u001B[0m     trade_strategy, trade_executor \u001B[38;5;241m=\u001B[39m \u001B[43mget_strategy_executor\u001B[49m\u001B[43m(\u001B[49m\n\u001B[0;32m    267\u001B[0m \u001B[43m        \u001B[49m\u001B[43mstart_time\u001B[49m\u001B[43m,\u001B[49m\n\u001B[0;32m    268\u001B[0m \u001B[43m        \u001B[49m\u001B[43mend_time\u001B[49m\u001B[43m,\u001B[49m\n\u001B[0;32m    269\u001B[0m \u001B[43m        \u001B[49m\u001B[43mstrategy\u001B[49m\u001B[43m,\u001B[49m\n\u001B[0;32m    270\u001B[0m \u001B[43m        \u001B[49m\u001B[43mexecutor\u001B[49m\u001B[43m,\u001B[49m\n\u001B[0;32m    271\u001B[0m \u001B[43m        \u001B[49m\u001B[43mbenchmark\u001B[49m\u001B[43m,\u001B[49m\n\u001B[0;32m    272\u001B[0m \u001B[43m        \u001B[49m\u001B[43maccount\u001B[49m\u001B[43m,\u001B[49m\n\u001B[0;32m    273\u001B[0m \u001B[43m        \u001B[49m\u001B[43mexchange_kwargs\u001B[49m\u001B[43m,\u001B[49m\n\u001B[0;32m    274\u001B[0m \u001B[43m        \u001B[49m\u001B[43mpos_type\u001B[49m\u001B[38;5;241;43m=\u001B[39;49m\u001B[43mpos_type\u001B[49m\u001B[43m,\u001B[49m\n\u001B[0;32m    275\u001B[0m \u001B[43m    \u001B[49m\u001B[43m)\u001B[49m\n\u001B[0;32m    276\u001B[0m     \u001B[38;5;28;01mreturn\u001B[39;00m backtest_loop(start_time, end_time, trade_strategy, trade_executor)\n",
      "File \u001B[1;32m~\\anaconda3\\envs\\alphagen\\lib\\site-packages\\qlib\\backtest\\__init__.py:206\u001B[0m, in \u001B[0;36mget_strategy_executor\u001B[1;34m(start_time, end_time, strategy, executor, benchmark, account, exchange_kwargs, pos_type)\u001B[0m\n\u001B[0;32m    204\u001B[0m \u001B[38;5;28;01mif\u001B[39;00m \u001B[38;5;124m\"\u001B[39m\u001B[38;5;124mend_time\u001B[39m\u001B[38;5;124m\"\u001B[39m \u001B[38;5;129;01mnot\u001B[39;00m \u001B[38;5;129;01min\u001B[39;00m exchange_kwargs:\n\u001B[0;32m    205\u001B[0m     exchange_kwargs[\u001B[38;5;124m\"\u001B[39m\u001B[38;5;124mend_time\u001B[39m\u001B[38;5;124m\"\u001B[39m] \u001B[38;5;241m=\u001B[39m end_time\n\u001B[1;32m--> 206\u001B[0m trade_exchange \u001B[38;5;241m=\u001B[39m \u001B[43mget_exchange\u001B[49m\u001B[43m(\u001B[49m\u001B[38;5;241;43m*\u001B[39;49m\u001B[38;5;241;43m*\u001B[39;49m\u001B[43mexchange_kwargs\u001B[49m\u001B[43m)\u001B[49m\n\u001B[0;32m    208\u001B[0m common_infra \u001B[38;5;241m=\u001B[39m CommonInfrastructure(trade_account\u001B[38;5;241m=\u001B[39mtrade_account, trade_exchange\u001B[38;5;241m=\u001B[39mtrade_exchange)\n\u001B[0;32m    209\u001B[0m trade_strategy \u001B[38;5;241m=\u001B[39m init_instance_by_config(strategy, accept_types\u001B[38;5;241m=\u001B[39mBaseStrategy)\n",
      "File \u001B[1;32m~\\anaconda3\\envs\\alphagen\\lib\\site-packages\\qlib\\backtest\\__init__.py:95\u001B[0m, in \u001B[0;36mget_exchange\u001B[1;34m(exchange, freq, start_time, end_time, codes, subscribe_fields, open_cost, close_cost, min_cost, limit_threshold, deal_price, **kwargs)\u001B[0m\n\u001B[0;32m     92\u001B[0m \u001B[38;5;28;01mif\u001B[39;00m exchange \u001B[38;5;129;01mis\u001B[39;00m \u001B[38;5;28;01mNone\u001B[39;00m:\n\u001B[0;32m     93\u001B[0m     logger\u001B[38;5;241m.\u001B[39minfo(\u001B[38;5;124m\"\u001B[39m\u001B[38;5;124mCreate new exchange\u001B[39m\u001B[38;5;124m\"\u001B[39m)\n\u001B[1;32m---> 95\u001B[0m     exchange \u001B[38;5;241m=\u001B[39m \u001B[43mExchange\u001B[49m\u001B[43m(\u001B[49m\n\u001B[0;32m     96\u001B[0m \u001B[43m        \u001B[49m\u001B[43mfreq\u001B[49m\u001B[38;5;241;43m=\u001B[39;49m\u001B[43mfreq\u001B[49m\u001B[43m,\u001B[49m\n\u001B[0;32m     97\u001B[0m \u001B[43m        \u001B[49m\u001B[43mstart_time\u001B[49m\u001B[38;5;241;43m=\u001B[39;49m\u001B[43mstart_time\u001B[49m\u001B[43m,\u001B[49m\n\u001B[0;32m     98\u001B[0m \u001B[43m        \u001B[49m\u001B[43mend_time\u001B[49m\u001B[38;5;241;43m=\u001B[39;49m\u001B[43mend_time\u001B[49m\u001B[43m,\u001B[49m\n\u001B[0;32m     99\u001B[0m \u001B[43m        \u001B[49m\u001B[43mcodes\u001B[49m\u001B[38;5;241;43m=\u001B[39;49m\u001B[43mcodes\u001B[49m\u001B[43m,\u001B[49m\n\u001B[0;32m    100\u001B[0m \u001B[43m        \u001B[49m\u001B[43mdeal_price\u001B[49m\u001B[38;5;241;43m=\u001B[39;49m\u001B[43mdeal_price\u001B[49m\u001B[43m,\u001B[49m\n\u001B[0;32m    101\u001B[0m \u001B[43m        \u001B[49m\u001B[43msubscribe_fields\u001B[49m\u001B[38;5;241;43m=\u001B[39;49m\u001B[43msubscribe_fields\u001B[49m\u001B[43m,\u001B[49m\n\u001B[0;32m    102\u001B[0m \u001B[43m        \u001B[49m\u001B[43mlimit_threshold\u001B[49m\u001B[38;5;241;43m=\u001B[39;49m\u001B[43mlimit_threshold\u001B[49m\u001B[43m,\u001B[49m\n\u001B[0;32m    103\u001B[0m \u001B[43m        \u001B[49m\u001B[43mopen_cost\u001B[49m\u001B[38;5;241;43m=\u001B[39;49m\u001B[43mopen_cost\u001B[49m\u001B[43m,\u001B[49m\n\u001B[0;32m    104\u001B[0m \u001B[43m        \u001B[49m\u001B[43mclose_cost\u001B[49m\u001B[38;5;241;43m=\u001B[39;49m\u001B[43mclose_cost\u001B[49m\u001B[43m,\u001B[49m\n\u001B[0;32m    105\u001B[0m \u001B[43m        \u001B[49m\u001B[43mmin_cost\u001B[49m\u001B[38;5;241;43m=\u001B[39;49m\u001B[43mmin_cost\u001B[49m\u001B[43m,\u001B[49m\n\u001B[0;32m    106\u001B[0m \u001B[43m        \u001B[49m\u001B[38;5;241;43m*\u001B[39;49m\u001B[38;5;241;43m*\u001B[39;49m\u001B[43mkwargs\u001B[49m\u001B[43m,\u001B[49m\n\u001B[0;32m    107\u001B[0m \u001B[43m    \u001B[49m\u001B[43m)\u001B[49m\n\u001B[0;32m    108\u001B[0m     \u001B[38;5;28;01mreturn\u001B[39;00m exchange\n\u001B[0;32m    109\u001B[0m \u001B[38;5;28;01melse\u001B[39;00m:\n",
      "File \u001B[1;32m~\\anaconda3\\envs\\alphagen\\lib\\site-packages\\qlib\\backtest\\exchange.py:195\u001B[0m, in \u001B[0;36mExchange.__init__\u001B[1;34m(self, freq, start_time, end_time, codes, deal_price, subscribe_fields, limit_threshold, volume_threshold, open_cost, close_cost, min_cost, impact_cost, extra_quote, quote_cls, **kwargs)\u001B[0m\n\u001B[0;32m    193\u001B[0m \u001B[38;5;28mself\u001B[39m\u001B[38;5;241m.\u001B[39mvolume_threshold \u001B[38;5;241m=\u001B[39m volume_threshold\n\u001B[0;32m    194\u001B[0m \u001B[38;5;28mself\u001B[39m\u001B[38;5;241m.\u001B[39mextra_quote \u001B[38;5;241m=\u001B[39m extra_quote\n\u001B[1;32m--> 195\u001B[0m \u001B[38;5;28;43mself\u001B[39;49m\u001B[38;5;241;43m.\u001B[39;49m\u001B[43mget_quote_from_qlib\u001B[49m\u001B[43m(\u001B[49m\u001B[43m)\u001B[49m\n\u001B[0;32m    197\u001B[0m \u001B[38;5;66;03m# init quote by quote_df\u001B[39;00m\n\u001B[0;32m    198\u001B[0m \u001B[38;5;28mself\u001B[39m\u001B[38;5;241m.\u001B[39mquote_cls \u001B[38;5;241m=\u001B[39m quote_cls\n",
      "File \u001B[1;32m~\\anaconda3\\envs\\alphagen\\lib\\site-packages\\qlib\\backtest\\exchange.py:205\u001B[0m, in \u001B[0;36mExchange.get_quote_from_qlib\u001B[1;34m(self)\u001B[0m\n\u001B[0;32m    203\u001B[0m \u001B[38;5;28;01mif\u001B[39;00m \u001B[38;5;28mlen\u001B[39m(\u001B[38;5;28mself\u001B[39m\u001B[38;5;241m.\u001B[39mcodes) \u001B[38;5;241m==\u001B[39m \u001B[38;5;241m0\u001B[39m:\n\u001B[0;32m    204\u001B[0m     \u001B[38;5;28mself\u001B[39m\u001B[38;5;241m.\u001B[39mcodes \u001B[38;5;241m=\u001B[39m D\u001B[38;5;241m.\u001B[39minstruments()\n\u001B[1;32m--> 205\u001B[0m \u001B[38;5;28mself\u001B[39m\u001B[38;5;241m.\u001B[39mquote_df \u001B[38;5;241m=\u001B[39m \u001B[43mD\u001B[49m\u001B[38;5;241;43m.\u001B[39;49m\u001B[43mfeatures\u001B[49m\u001B[43m(\u001B[49m\n\u001B[0;32m    206\u001B[0m \u001B[43m    \u001B[49m\u001B[38;5;28;43mself\u001B[39;49m\u001B[38;5;241;43m.\u001B[39;49m\u001B[43mcodes\u001B[49m\u001B[43m,\u001B[49m\n\u001B[0;32m    207\u001B[0m \u001B[43m    \u001B[49m\u001B[38;5;28;43mself\u001B[39;49m\u001B[38;5;241;43m.\u001B[39;49m\u001B[43mall_fields\u001B[49m\u001B[43m,\u001B[49m\n\u001B[0;32m    208\u001B[0m \u001B[43m    \u001B[49m\u001B[38;5;28;43mself\u001B[39;49m\u001B[38;5;241;43m.\u001B[39;49m\u001B[43mstart_time\u001B[49m\u001B[43m,\u001B[49m\n\u001B[0;32m    209\u001B[0m \u001B[43m    \u001B[49m\u001B[38;5;28;43mself\u001B[39;49m\u001B[38;5;241;43m.\u001B[39;49m\u001B[43mend_time\u001B[49m\u001B[43m,\u001B[49m\n\u001B[0;32m    210\u001B[0m \u001B[43m    \u001B[49m\u001B[43mfreq\u001B[49m\u001B[38;5;241;43m=\u001B[39;49m\u001B[38;5;28;43mself\u001B[39;49m\u001B[38;5;241;43m.\u001B[39;49m\u001B[43mfreq\u001B[49m\u001B[43m,\u001B[49m\n\u001B[0;32m    211\u001B[0m \u001B[43m    \u001B[49m\u001B[43mdisk_cache\u001B[49m\u001B[38;5;241;43m=\u001B[39;49m\u001B[38;5;28;43;01mTrue\u001B[39;49;00m\u001B[43m,\u001B[49m\n\u001B[0;32m    212\u001B[0m \u001B[43m\u001B[49m\u001B[43m)\u001B[49m\n\u001B[0;32m    213\u001B[0m \u001B[38;5;28mself\u001B[39m\u001B[38;5;241m.\u001B[39mquote_df\u001B[38;5;241m.\u001B[39mcolumns \u001B[38;5;241m=\u001B[39m \u001B[38;5;28mself\u001B[39m\u001B[38;5;241m.\u001B[39mall_fields\n\u001B[0;32m    215\u001B[0m \u001B[38;5;66;03m# check buy_price data and sell_price data\u001B[39;00m\n",
      "File \u001B[1;32m~\\anaconda3\\envs\\alphagen\\lib\\site-packages\\qlib\\data\\data.py:1190\u001B[0m, in \u001B[0;36mBaseProvider.features\u001B[1;34m(self, instruments, fields, start_time, end_time, freq, disk_cache, inst_processors)\u001B[0m\n\u001B[0;32m   1186\u001B[0m     \u001B[38;5;28;01mreturn\u001B[39;00m DatasetD\u001B[38;5;241m.\u001B[39mdataset(\n\u001B[0;32m   1187\u001B[0m         instruments, fields, start_time, end_time, freq, disk_cache, inst_processors\u001B[38;5;241m=\u001B[39minst_processors\n\u001B[0;32m   1188\u001B[0m     )\n\u001B[0;32m   1189\u001B[0m \u001B[38;5;28;01mexcept\u001B[39;00m \u001B[38;5;167;01mTypeError\u001B[39;00m:\n\u001B[1;32m-> 1190\u001B[0m     \u001B[38;5;28;01mreturn\u001B[39;00m \u001B[43mDatasetD\u001B[49m\u001B[38;5;241;43m.\u001B[39;49m\u001B[43mdataset\u001B[49m\u001B[43m(\u001B[49m\u001B[43minstruments\u001B[49m\u001B[43m,\u001B[49m\u001B[43m \u001B[49m\u001B[43mfields\u001B[49m\u001B[43m,\u001B[49m\u001B[43m \u001B[49m\u001B[43mstart_time\u001B[49m\u001B[43m,\u001B[49m\u001B[43m \u001B[49m\u001B[43mend_time\u001B[49m\u001B[43m,\u001B[49m\u001B[43m \u001B[49m\u001B[43mfreq\u001B[49m\u001B[43m,\u001B[49m\u001B[43m \u001B[49m\u001B[43minst_processors\u001B[49m\u001B[38;5;241;43m=\u001B[39;49m\u001B[43minst_processors\u001B[49m\u001B[43m)\u001B[49m\n",
      "File \u001B[1;32m~\\anaconda3\\envs\\alphagen\\lib\\site-packages\\qlib\\data\\data.py:923\u001B[0m, in \u001B[0;36mLocalDatasetProvider.dataset\u001B[1;34m(self, instruments, fields, start_time, end_time, freq, inst_processors)\u001B[0m\n\u001B[0;32m    921\u001B[0m     start_time \u001B[38;5;241m=\u001B[39m cal[\u001B[38;5;241m0\u001B[39m]\n\u001B[0;32m    922\u001B[0m     end_time \u001B[38;5;241m=\u001B[39m cal[\u001B[38;5;241m-\u001B[39m\u001B[38;5;241m1\u001B[39m]\n\u001B[1;32m--> 923\u001B[0m data \u001B[38;5;241m=\u001B[39m \u001B[38;5;28;43mself\u001B[39;49m\u001B[38;5;241;43m.\u001B[39;49m\u001B[43mdataset_processor\u001B[49m\u001B[43m(\u001B[49m\n\u001B[0;32m    924\u001B[0m \u001B[43m    \u001B[49m\u001B[43minstruments_d\u001B[49m\u001B[43m,\u001B[49m\u001B[43m \u001B[49m\u001B[43mcolumn_names\u001B[49m\u001B[43m,\u001B[49m\u001B[43m \u001B[49m\u001B[43mstart_time\u001B[49m\u001B[43m,\u001B[49m\u001B[43m \u001B[49m\u001B[43mend_time\u001B[49m\u001B[43m,\u001B[49m\u001B[43m \u001B[49m\u001B[43mfreq\u001B[49m\u001B[43m,\u001B[49m\u001B[43m \u001B[49m\u001B[43minst_processors\u001B[49m\u001B[38;5;241;43m=\u001B[39;49m\u001B[43minst_processors\u001B[49m\n\u001B[0;32m    925\u001B[0m \u001B[43m\u001B[49m\u001B[43m)\u001B[49m\n\u001B[0;32m    927\u001B[0m \u001B[38;5;28;01mreturn\u001B[39;00m data\n",
      "File \u001B[1;32m~\\anaconda3\\envs\\alphagen\\lib\\site-packages\\qlib\\data\\data.py:577\u001B[0m, in \u001B[0;36mDatasetProvider.dataset_processor\u001B[1;34m(instruments_d, column_names, start_time, end_time, freq, inst_processors)\u001B[0m\n\u001B[0;32m    567\u001B[0m     inst_l\u001B[38;5;241m.\u001B[39mappend(inst)\n\u001B[0;32m    568\u001B[0m     task_l\u001B[38;5;241m.\u001B[39mappend(\n\u001B[0;32m    569\u001B[0m         delayed(DatasetProvider\u001B[38;5;241m.\u001B[39minst_calculator)(\n\u001B[0;32m    570\u001B[0m             inst, start_time, end_time, freq, normalize_column_names, spans, C, inst_processors\n\u001B[0;32m    571\u001B[0m         )\n\u001B[0;32m    572\u001B[0m     )\n\u001B[0;32m    574\u001B[0m data \u001B[38;5;241m=\u001B[39m \u001B[38;5;28mdict\u001B[39m(\n\u001B[0;32m    575\u001B[0m     \u001B[38;5;28mzip\u001B[39m(\n\u001B[0;32m    576\u001B[0m         inst_l,\n\u001B[1;32m--> 577\u001B[0m         \u001B[43mParallelExt\u001B[49m\u001B[43m(\u001B[49m\u001B[43mn_jobs\u001B[49m\u001B[38;5;241;43m=\u001B[39;49m\u001B[43mworkers\u001B[49m\u001B[43m,\u001B[49m\u001B[43m \u001B[49m\u001B[43mbackend\u001B[49m\u001B[38;5;241;43m=\u001B[39;49m\u001B[43mC\u001B[49m\u001B[38;5;241;43m.\u001B[39;49m\u001B[43mjoblib_backend\u001B[49m\u001B[43m,\u001B[49m\u001B[43m \u001B[49m\u001B[43mmaxtasksperchild\u001B[49m\u001B[38;5;241;43m=\u001B[39;49m\u001B[43mC\u001B[49m\u001B[38;5;241;43m.\u001B[39;49m\u001B[43mmaxtasksperchild\u001B[49m\u001B[43m)\u001B[49m\u001B[43m(\u001B[49m\u001B[43mtask_l\u001B[49m\u001B[43m)\u001B[49m,\n\u001B[0;32m    578\u001B[0m     )\n\u001B[0;32m    579\u001B[0m )\n\u001B[0;32m    581\u001B[0m new_data \u001B[38;5;241m=\u001B[39m \u001B[38;5;28mdict\u001B[39m()\n\u001B[0;32m    582\u001B[0m \u001B[38;5;28;01mfor\u001B[39;00m inst \u001B[38;5;129;01min\u001B[39;00m \u001B[38;5;28msorted\u001B[39m(data\u001B[38;5;241m.\u001B[39mkeys()):\n",
      "File \u001B[1;32m~\\anaconda3\\envs\\alphagen\\lib\\site-packages\\joblib\\parallel.py:2007\u001B[0m, in \u001B[0;36mParallel.__call__\u001B[1;34m(self, iterable)\u001B[0m\n\u001B[0;32m   2001\u001B[0m \u001B[38;5;66;03m# The first item from the output is blank, but it makes the interpreter\u001B[39;00m\n\u001B[0;32m   2002\u001B[0m \u001B[38;5;66;03m# progress until it enters the Try/Except block of the generator and\u001B[39;00m\n\u001B[0;32m   2003\u001B[0m \u001B[38;5;66;03m# reaches the first `yield` statement. This starts the asynchronous\u001B[39;00m\n\u001B[0;32m   2004\u001B[0m \u001B[38;5;66;03m# dispatch of the tasks to the workers.\u001B[39;00m\n\u001B[0;32m   2005\u001B[0m \u001B[38;5;28mnext\u001B[39m(output)\n\u001B[1;32m-> 2007\u001B[0m \u001B[38;5;28;01mreturn\u001B[39;00m output \u001B[38;5;28;01mif\u001B[39;00m \u001B[38;5;28mself\u001B[39m\u001B[38;5;241m.\u001B[39mreturn_generator \u001B[38;5;28;01melse\u001B[39;00m \u001B[38;5;28;43mlist\u001B[39;49m\u001B[43m(\u001B[49m\u001B[43moutput\u001B[49m\u001B[43m)\u001B[49m\n",
      "File \u001B[1;32m~\\anaconda3\\envs\\alphagen\\lib\\site-packages\\joblib\\parallel.py:1650\u001B[0m, in \u001B[0;36mParallel._get_outputs\u001B[1;34m(self, iterator, pre_dispatch)\u001B[0m\n\u001B[0;32m   1647\u001B[0m     \u001B[38;5;28;01myield\u001B[39;00m\n\u001B[0;32m   1649\u001B[0m     \u001B[38;5;28;01mwith\u001B[39;00m \u001B[38;5;28mself\u001B[39m\u001B[38;5;241m.\u001B[39m_backend\u001B[38;5;241m.\u001B[39mretrieval_context():\n\u001B[1;32m-> 1650\u001B[0m         \u001B[38;5;28;01myield from\u001B[39;00m \u001B[38;5;28mself\u001B[39m\u001B[38;5;241m.\u001B[39m_retrieve()\n\u001B[0;32m   1652\u001B[0m \u001B[38;5;28;01mexcept\u001B[39;00m \u001B[38;5;167;01mGeneratorExit\u001B[39;00m:\n\u001B[0;32m   1653\u001B[0m     \u001B[38;5;66;03m# The generator has been garbage collected before being fully\u001B[39;00m\n\u001B[0;32m   1654\u001B[0m     \u001B[38;5;66;03m# consumed. This aborts the remaining tasks if possible and warn\u001B[39;00m\n\u001B[0;32m   1655\u001B[0m     \u001B[38;5;66;03m# the user if necessary.\u001B[39;00m\n\u001B[0;32m   1656\u001B[0m     \u001B[38;5;28mself\u001B[39m\u001B[38;5;241m.\u001B[39m_exception \u001B[38;5;241m=\u001B[39m \u001B[38;5;28;01mTrue\u001B[39;00m\n",
      "File \u001B[1;32m~\\anaconda3\\envs\\alphagen\\lib\\site-packages\\joblib\\parallel.py:1762\u001B[0m, in \u001B[0;36mParallel._retrieve\u001B[1;34m(self)\u001B[0m\n\u001B[0;32m   1757\u001B[0m \u001B[38;5;66;03m# If the next job is not ready for retrieval yet, we just wait for\u001B[39;00m\n\u001B[0;32m   1758\u001B[0m \u001B[38;5;66;03m# async callbacks to progress.\u001B[39;00m\n\u001B[0;32m   1759\u001B[0m \u001B[38;5;28;01mif\u001B[39;00m ((\u001B[38;5;28mlen\u001B[39m(\u001B[38;5;28mself\u001B[39m\u001B[38;5;241m.\u001B[39m_jobs) \u001B[38;5;241m==\u001B[39m \u001B[38;5;241m0\u001B[39m) \u001B[38;5;129;01mor\u001B[39;00m\n\u001B[0;32m   1760\u001B[0m     (\u001B[38;5;28mself\u001B[39m\u001B[38;5;241m.\u001B[39m_jobs[\u001B[38;5;241m0\u001B[39m]\u001B[38;5;241m.\u001B[39mget_status(\n\u001B[0;32m   1761\u001B[0m         timeout\u001B[38;5;241m=\u001B[39m\u001B[38;5;28mself\u001B[39m\u001B[38;5;241m.\u001B[39mtimeout) \u001B[38;5;241m==\u001B[39m TASK_PENDING)):\n\u001B[1;32m-> 1762\u001B[0m     \u001B[43mtime\u001B[49m\u001B[38;5;241;43m.\u001B[39;49m\u001B[43msleep\u001B[49m\u001B[43m(\u001B[49m\u001B[38;5;241;43m0.01\u001B[39;49m\u001B[43m)\u001B[49m\n\u001B[0;32m   1763\u001B[0m     \u001B[38;5;28;01mcontinue\u001B[39;00m\n\u001B[0;32m   1765\u001B[0m \u001B[38;5;66;03m# We need to be careful: the job list can be filling up as\u001B[39;00m\n\u001B[0;32m   1766\u001B[0m \u001B[38;5;66;03m# we empty it and Python list are not thread-safe by\u001B[39;00m\n\u001B[0;32m   1767\u001B[0m \u001B[38;5;66;03m# default hence the use of the lock\u001B[39;00m\n",
      "\u001B[1;31mKeyboardInterrupt\u001B[0m: "
     ]
    }
   ],
   "execution_count": 8
  },
  {
   "metadata": {},
   "cell_type": "code",
   "outputs": [],
   "execution_count": null,
   "source": "",
   "id": "de924f5178dfe0d5"
  }
 ],
 "metadata": {
  "kernelspec": {
   "display_name": "Python 3 (ipykernel)",
   "language": "python",
   "name": "python3"
  },
  "language_info": {
   "codemirror_mode": {
    "name": "ipython",
    "version": 3
   },
   "file_extension": ".py",
   "mimetype": "text/x-python",
   "name": "python",
   "nbconvert_exporter": "python",
   "pygments_lexer": "ipython3",
   "version": "3.8.19"
  }
 },
 "nbformat": 4,
 "nbformat_minor": 5
}
