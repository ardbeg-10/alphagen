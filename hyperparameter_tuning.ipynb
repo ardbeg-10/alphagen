{
 "cells": [
  {
   "metadata": {
    "ExecuteTime": {
     "end_time": "2024-08-08T03:38:25.634562Z",
     "start_time": "2024-08-08T03:38:25.620031Z"
    }
   },
   "cell_type": "code",
   "source": [
    "import json\n",
    "import os\n",
    "from typing import Optional, Tuple\n",
    "from datetime import datetime\n",
    "import fire\n",
    "\n",
    "import numpy as np\n",
    "from sb3_contrib.ppo_mask import MaskablePPO\n",
    "from stable_baselines3.common.callbacks import BaseCallback\n",
    "from alphagen.data.calculator import AlphaCalculator\n",
    "\n",
    "from alphagen.data.expression import *\n",
    "from alphagen.models.alpha_pool import AlphaPool, AlphaPoolBase\n",
    "from alphagen.rl.env.wrapper import AlphaEnv\n",
    "from alphagen.rl.policy import LSTMSharedNet, TransformerSharedNet\n",
    "from alphagen.utils.random import reseed_everything\n",
    "from alphagen.rl.env.core import AlphaEnvCore\n",
    "from alphagen_qlib.calculator import QLibStockDataCalculator"
   ],
   "id": "a23a7ef98ab7c365",
   "outputs": [],
   "execution_count": 7
  },
  {
   "metadata": {
    "ExecuteTime": {
     "end_time": "2024-08-08T03:42:18.072588Z",
     "start_time": "2024-08-08T03:42:18.059918Z"
    }
   },
   "cell_type": "code",
   "source": [
    "from tfm_train_ppo import CustomCallback\n",
    "from alphagen.utils import reseed_everything\n",
    "\n",
    "\n",
    "def objective(trial):\n",
    "    seed = 0\n",
    "    instruments = \"csi500\"\n",
    "    pool_capacity = 10\n",
    "    steps = 20_000\n",
    "\n",
    "    reseed_everything(seed)\n",
    "\n",
    "    device = torch.device('cuda:0')\n",
    "    close = Feature(FeatureType.CLOSE)\n",
    "    target = Ref(close, -1) / close - 1\n",
    "\n",
    "    data_train = StockData(instrument=instruments,\n",
    "                           start_time='2022-01-01',\n",
    "                           end_time='2022-12-31')\n",
    "    data_valid = StockData(instrument=instruments,\n",
    "                           start_time='2023-01-01',\n",
    "                           end_time='2023-03-31')\n",
    "    data_test = StockData(instrument=instruments,\n",
    "                          start_time='2023-04-01',\n",
    "                          end_time='2023-06-30')\n",
    "    calculator_train = QLibStockDataCalculator(data_train, target)\n",
    "    calculator_valid = QLibStockDataCalculator(data_valid, target)\n",
    "    calculator_test = QLibStockDataCalculator(data_test, target)\n",
    "\n",
    "    pool = AlphaPool(\n",
    "        capacity=pool_capacity,\n",
    "        calculator=calculator_train,\n",
    "        ic_lower_bound=0.5,\n",
    "        l1_alpha=5e-3\n",
    "    )\n",
    "    env = AlphaEnv(pool=pool, device=device, print_expr=True)\n",
    "\n",
    "    name_prefix = f\"new_{instruments}_{pool_capacity}_{seed}\"\n",
    "    timestamp = datetime.now().strftime('%Y%m%d%H%M%S')\n",
    "\n",
    "    checkpoint_callback = CustomCallback(\n",
    "        save_freq=10000,\n",
    "        show_freq=10000,\n",
    "        save_path='/save',\n",
    "        valid_calculator=calculator_valid,\n",
    "        test_calculator=calculator_test,\n",
    "        name_prefix=name_prefix,\n",
    "        timestamp=timestamp,\n",
    "        verbose=1,\n",
    "    )\n",
    "\n",
    "    ent_coef = trial.suggest_loguniform('ent_coef', 1e-3, 1e-1)\n",
    "    learning_rate = trial.suggest_loguniform('learning_rate', 1e-5, 1e-3)\n",
    "\n",
    "    model = MaskablePPO(\n",
    "        'MlpPolicy',\n",
    "        env,\n",
    "        policy_kwargs=dict(\n",
    "            features_extractor_class=TransformerSharedNet,\n",
    "            features_extractor_kwargs=dict(\n",
    "                n_encoder_layers=6,\n",
    "                d_model=128,\n",
    "                n_head=4,\n",
    "                d_ffn=2048,\n",
    "                dropout=0.1,\n",
    "                device=device,\n",
    "            ),\n",
    "        ),\n",
    "        gamma=1.,\n",
    "        ent_coef=ent_coef,\n",
    "        batch_size=256,\n",
    "        learning_rate=learning_rate,\n",
    "        tensorboard_log='/tensorboard',\n",
    "        device=device,\n",
    "        verbose=1,\n",
    "    )\n",
    "    model.learn(\n",
    "        total_timesteps=steps,\n",
    "        tb_log_name=f'{name_prefix}_{timestamp}',\n",
    "    )\n",
    "\n",
    "    ic_test, rank_ic_test, ir = pool.test_ensemble(calculator_test)\n",
    "    return ic_test"
   ],
   "id": "initial_id",
   "outputs": [],
   "execution_count": 10
  },
  {
   "metadata": {
    "ExecuteTime": {
     "end_time": "2024-08-08T03:43:06.532186Z",
     "start_time": "2024-08-08T03:42:18.340458Z"
    }
   },
   "cell_type": "code",
   "source": [
    "import optuna\n",
    "from optuna.samplers import TPESampler\n",
    "\n",
    "def main_optuna(trials: int = 50):\n",
    "    study = optuna.create_study(direction='maximize', sampler=TPESampler())\n",
    "    study.optimize(objective, n_trials=trials)\n",
    "\n",
    "    print(\"Best trial:\")\n",
    "    trial = study.best_trial\n",
    "\n",
    "    print(\"  Value: {}\".format(trial.value))\n",
    "\n",
    "    print(\"  Params: \")\n",
    "    for key, value in trial.params.items():\n",
    "        print(\"    {}: {}\".format(key, value))\n",
    "\n",
    "main_optuna()"
   ],
   "id": "e64dd1e53f02d6d0",
   "outputs": [
    {
     "name": "stderr",
     "output_type": "stream",
     "text": [
      "[I 2024-08-08 11:42:18,343] A new study created in memory with name: no-name-ab949174-4171-4842-871c-7ac5403c4026\n",
      "C:\\Users\\liush\\AppData\\Local\\Temp\\ipykernel_26468\\2655582327.py:52: FutureWarning: suggest_loguniform has been deprecated in v3.0.0. This feature will be removed in v6.0.0. See https://github.com/optuna/optuna/releases/tag/v3.0.0. Use suggest_float(..., log=True) instead.\n",
      "  ent_coef = trial.suggest_loguniform('ent_coef', 1e-3, 1e-1)\n",
      "C:\\Users\\liush\\AppData\\Local\\Temp\\ipykernel_26468\\2655582327.py:53: FutureWarning: suggest_loguniform has been deprecated in v3.0.0. This feature will be removed in v6.0.0. See https://github.com/optuna/optuna/releases/tag/v3.0.0. Use suggest_float(..., log=True) instead.\n",
      "  learning_rate = trial.suggest_loguniform('learning_rate', 1e-5, 1e-3)\n"
     ]
    },
    {
     "name": "stdout",
     "output_type": "stream",
     "text": [
      "Using cuda:0 device\n",
      "Wrapping the env with a `Monitor` wrapper\n",
      "Wrapping the env in a DummyVecEnv.\n"
     ]
    },
    {
     "name": "stderr",
     "output_type": "stream",
     "text": [
      "C:\\Users\\liush\\anaconda3\\envs\\alphagen\\lib\\site-packages\\torch\\nn\\modules\\transformer.py:306: UserWarning: enable_nested_tensor is True, but self.use_nested_tensor is False because encoder_layer.activation_relu_or_gelu was not True\n",
      "  warnings.warn(f\"enable_nested_tensor is True, but self.use_nested_tensor is False because {why_not_sparsity_fast_path}\")\n",
      "[W 2024-08-08 11:43:06,268] Trial 0 failed with parameters: {'ent_coef': 0.037743271115619176, 'learning_rate': 0.00023522256997318374} because of the following error: ValueError('Expected file or str, got <colorama.ansitowin32.StreamWrapper object at 0x000001A4ED761D90>').\n",
      "Traceback (most recent call last):\n",
      "  File \"C:\\Users\\liush\\anaconda3\\envs\\alphagen\\lib\\site-packages\\optuna\\study\\_optimize.py\", line 196, in _run_trial\n",
      "    value_or_values = func(trial)\n",
      "  File \"C:\\Users\\liush\\AppData\\Local\\Temp\\ipykernel_26468\\2655582327.py\", line 77, in objective\n",
      "    model.learn(\n",
      "  File \"C:\\Users\\liush\\anaconda3\\envs\\alphagen\\lib\\site-packages\\sb3_contrib\\ppo_mask\\ppo_mask.py\", line 514, in learn\n",
      "    total_timesteps, callback = self._setup_learn(\n",
      "  File \"C:\\Users\\liush\\anaconda3\\envs\\alphagen\\lib\\site-packages\\sb3_contrib\\ppo_mask\\ppo_mask.py\", line 247, in _setup_learn\n",
      "    self._logger = utils.configure_logger(self.verbose, self.tensorboard_log, tb_log_name, reset_num_timesteps)\n",
      "  File \"C:\\Users\\liush\\anaconda3\\envs\\alphagen\\lib\\site-packages\\stable_baselines3\\common\\utils.py\", line 213, in configure_logger\n",
      "    return configure(save_path, format_strings=format_strings)\n",
      "  File \"C:\\Users\\liush\\anaconda3\\envs\\alphagen\\lib\\site-packages\\stable_baselines3\\common\\logger.py\", line 657, in configure\n",
      "    output_formats = [make_output_format(f, folder, log_suffix) for f in format_strings]\n",
      "  File \"C:\\Users\\liush\\anaconda3\\envs\\alphagen\\lib\\site-packages\\stable_baselines3\\common\\logger.py\", line 657, in <listcomp>\n",
      "    output_formats = [make_output_format(f, folder, log_suffix) for f in format_strings]\n",
      "  File \"C:\\Users\\liush\\anaconda3\\envs\\alphagen\\lib\\site-packages\\stable_baselines3\\common\\logger.py\", line 455, in make_output_format\n",
      "    return HumanOutputFormat(sys.stdout)\n",
      "  File \"C:\\Users\\liush\\anaconda3\\envs\\alphagen\\lib\\site-packages\\stable_baselines3\\common\\logger.py\", line 171, in __init__\n",
      "    raise ValueError(f\"Expected file or str, got {filename_or_file}\")\n",
      "ValueError: Expected file or str, got <colorama.ansitowin32.StreamWrapper object at 0x000001A4ED761D90>\n",
      "[W 2024-08-08 11:43:06,269] Trial 0 failed with value None.\n"
     ]
    },
    {
     "ename": "ValueError",
     "evalue": "Expected file or str, got <colorama.ansitowin32.StreamWrapper object at 0x000001A4ED761D90>",
     "output_type": "error",
     "traceback": [
      "\u001B[1;31m---------------------------------------------------------------------------\u001B[0m",
      "\u001B[1;31mValueError\u001B[0m                                Traceback (most recent call last)",
      "Cell \u001B[1;32mIn[11], line 17\u001B[0m\n\u001B[0;32m     14\u001B[0m     \u001B[38;5;28;01mfor\u001B[39;00m key, value \u001B[38;5;129;01min\u001B[39;00m trial\u001B[38;5;241m.\u001B[39mparams\u001B[38;5;241m.\u001B[39mitems():\n\u001B[0;32m     15\u001B[0m         \u001B[38;5;28mprint\u001B[39m(\u001B[38;5;124m\"\u001B[39m\u001B[38;5;124m    \u001B[39m\u001B[38;5;132;01m{}\u001B[39;00m\u001B[38;5;124m: \u001B[39m\u001B[38;5;132;01m{}\u001B[39;00m\u001B[38;5;124m\"\u001B[39m\u001B[38;5;241m.\u001B[39mformat(key, value))\n\u001B[1;32m---> 17\u001B[0m \u001B[43mmain_optuna\u001B[49m\u001B[43m(\u001B[49m\u001B[43m)\u001B[49m\n",
      "Cell \u001B[1;32mIn[11], line 6\u001B[0m, in \u001B[0;36mmain_optuna\u001B[1;34m(trials)\u001B[0m\n\u001B[0;32m      4\u001B[0m \u001B[38;5;28;01mdef\u001B[39;00m \u001B[38;5;21mmain_optuna\u001B[39m(trials: \u001B[38;5;28mint\u001B[39m \u001B[38;5;241m=\u001B[39m \u001B[38;5;241m50\u001B[39m):\n\u001B[0;32m      5\u001B[0m     study \u001B[38;5;241m=\u001B[39m optuna\u001B[38;5;241m.\u001B[39mcreate_study(direction\u001B[38;5;241m=\u001B[39m\u001B[38;5;124m'\u001B[39m\u001B[38;5;124mmaximize\u001B[39m\u001B[38;5;124m'\u001B[39m, sampler\u001B[38;5;241m=\u001B[39mTPESampler())\n\u001B[1;32m----> 6\u001B[0m     \u001B[43mstudy\u001B[49m\u001B[38;5;241;43m.\u001B[39;49m\u001B[43moptimize\u001B[49m\u001B[43m(\u001B[49m\u001B[43mobjective\u001B[49m\u001B[43m,\u001B[49m\u001B[43m \u001B[49m\u001B[43mn_trials\u001B[49m\u001B[38;5;241;43m=\u001B[39;49m\u001B[43mtrials\u001B[49m\u001B[43m)\u001B[49m\n\u001B[0;32m      8\u001B[0m     \u001B[38;5;28mprint\u001B[39m(\u001B[38;5;124m\"\u001B[39m\u001B[38;5;124mBest trial:\u001B[39m\u001B[38;5;124m\"\u001B[39m)\n\u001B[0;32m      9\u001B[0m     trial \u001B[38;5;241m=\u001B[39m study\u001B[38;5;241m.\u001B[39mbest_trial\n",
      "File \u001B[1;32m~\\anaconda3\\envs\\alphagen\\lib\\site-packages\\optuna\\study\\study.py:451\u001B[0m, in \u001B[0;36mStudy.optimize\u001B[1;34m(self, func, n_trials, timeout, n_jobs, catch, callbacks, gc_after_trial, show_progress_bar)\u001B[0m\n\u001B[0;32m    348\u001B[0m \u001B[38;5;28;01mdef\u001B[39;00m \u001B[38;5;21moptimize\u001B[39m(\n\u001B[0;32m    349\u001B[0m     \u001B[38;5;28mself\u001B[39m,\n\u001B[0;32m    350\u001B[0m     func: ObjectiveFuncType,\n\u001B[1;32m   (...)\u001B[0m\n\u001B[0;32m    357\u001B[0m     show_progress_bar: \u001B[38;5;28mbool\u001B[39m \u001B[38;5;241m=\u001B[39m \u001B[38;5;28;01mFalse\u001B[39;00m,\n\u001B[0;32m    358\u001B[0m ) \u001B[38;5;241m-\u001B[39m\u001B[38;5;241m>\u001B[39m \u001B[38;5;28;01mNone\u001B[39;00m:\n\u001B[0;32m    359\u001B[0m \u001B[38;5;250m    \u001B[39m\u001B[38;5;124;03m\"\"\"Optimize an objective function.\u001B[39;00m\n\u001B[0;32m    360\u001B[0m \n\u001B[0;32m    361\u001B[0m \u001B[38;5;124;03m    Optimization is done by choosing a suitable set of hyperparameter values from a given\u001B[39;00m\n\u001B[1;32m   (...)\u001B[0m\n\u001B[0;32m    449\u001B[0m \u001B[38;5;124;03m            If nested invocation of this method occurs.\u001B[39;00m\n\u001B[0;32m    450\u001B[0m \u001B[38;5;124;03m    \"\"\"\u001B[39;00m\n\u001B[1;32m--> 451\u001B[0m     \u001B[43m_optimize\u001B[49m\u001B[43m(\u001B[49m\n\u001B[0;32m    452\u001B[0m \u001B[43m        \u001B[49m\u001B[43mstudy\u001B[49m\u001B[38;5;241;43m=\u001B[39;49m\u001B[38;5;28;43mself\u001B[39;49m\u001B[43m,\u001B[49m\n\u001B[0;32m    453\u001B[0m \u001B[43m        \u001B[49m\u001B[43mfunc\u001B[49m\u001B[38;5;241;43m=\u001B[39;49m\u001B[43mfunc\u001B[49m\u001B[43m,\u001B[49m\n\u001B[0;32m    454\u001B[0m \u001B[43m        \u001B[49m\u001B[43mn_trials\u001B[49m\u001B[38;5;241;43m=\u001B[39;49m\u001B[43mn_trials\u001B[49m\u001B[43m,\u001B[49m\n\u001B[0;32m    455\u001B[0m \u001B[43m        \u001B[49m\u001B[43mtimeout\u001B[49m\u001B[38;5;241;43m=\u001B[39;49m\u001B[43mtimeout\u001B[49m\u001B[43m,\u001B[49m\n\u001B[0;32m    456\u001B[0m \u001B[43m        \u001B[49m\u001B[43mn_jobs\u001B[49m\u001B[38;5;241;43m=\u001B[39;49m\u001B[43mn_jobs\u001B[49m\u001B[43m,\u001B[49m\n\u001B[0;32m    457\u001B[0m \u001B[43m        \u001B[49m\u001B[43mcatch\u001B[49m\u001B[38;5;241;43m=\u001B[39;49m\u001B[38;5;28;43mtuple\u001B[39;49m\u001B[43m(\u001B[49m\u001B[43mcatch\u001B[49m\u001B[43m)\u001B[49m\u001B[43m \u001B[49m\u001B[38;5;28;43;01mif\u001B[39;49;00m\u001B[43m \u001B[49m\u001B[38;5;28;43misinstance\u001B[39;49m\u001B[43m(\u001B[49m\u001B[43mcatch\u001B[49m\u001B[43m,\u001B[49m\u001B[43m \u001B[49m\u001B[43mIterable\u001B[49m\u001B[43m)\u001B[49m\u001B[43m \u001B[49m\u001B[38;5;28;43;01melse\u001B[39;49;00m\u001B[43m \u001B[49m\u001B[43m(\u001B[49m\u001B[43mcatch\u001B[49m\u001B[43m,\u001B[49m\u001B[43m)\u001B[49m\u001B[43m,\u001B[49m\n\u001B[0;32m    458\u001B[0m \u001B[43m        \u001B[49m\u001B[43mcallbacks\u001B[49m\u001B[38;5;241;43m=\u001B[39;49m\u001B[43mcallbacks\u001B[49m\u001B[43m,\u001B[49m\n\u001B[0;32m    459\u001B[0m \u001B[43m        \u001B[49m\u001B[43mgc_after_trial\u001B[49m\u001B[38;5;241;43m=\u001B[39;49m\u001B[43mgc_after_trial\u001B[49m\u001B[43m,\u001B[49m\n\u001B[0;32m    460\u001B[0m \u001B[43m        \u001B[49m\u001B[43mshow_progress_bar\u001B[49m\u001B[38;5;241;43m=\u001B[39;49m\u001B[43mshow_progress_bar\u001B[49m\u001B[43m,\u001B[49m\n\u001B[0;32m    461\u001B[0m \u001B[43m    \u001B[49m\u001B[43m)\u001B[49m\n",
      "File \u001B[1;32m~\\anaconda3\\envs\\alphagen\\lib\\site-packages\\optuna\\study\\_optimize.py:62\u001B[0m, in \u001B[0;36m_optimize\u001B[1;34m(study, func, n_trials, timeout, n_jobs, catch, callbacks, gc_after_trial, show_progress_bar)\u001B[0m\n\u001B[0;32m     60\u001B[0m \u001B[38;5;28;01mtry\u001B[39;00m:\n\u001B[0;32m     61\u001B[0m     \u001B[38;5;28;01mif\u001B[39;00m n_jobs \u001B[38;5;241m==\u001B[39m \u001B[38;5;241m1\u001B[39m:\n\u001B[1;32m---> 62\u001B[0m         \u001B[43m_optimize_sequential\u001B[49m\u001B[43m(\u001B[49m\n\u001B[0;32m     63\u001B[0m \u001B[43m            \u001B[49m\u001B[43mstudy\u001B[49m\u001B[43m,\u001B[49m\n\u001B[0;32m     64\u001B[0m \u001B[43m            \u001B[49m\u001B[43mfunc\u001B[49m\u001B[43m,\u001B[49m\n\u001B[0;32m     65\u001B[0m \u001B[43m            \u001B[49m\u001B[43mn_trials\u001B[49m\u001B[43m,\u001B[49m\n\u001B[0;32m     66\u001B[0m \u001B[43m            \u001B[49m\u001B[43mtimeout\u001B[49m\u001B[43m,\u001B[49m\n\u001B[0;32m     67\u001B[0m \u001B[43m            \u001B[49m\u001B[43mcatch\u001B[49m\u001B[43m,\u001B[49m\n\u001B[0;32m     68\u001B[0m \u001B[43m            \u001B[49m\u001B[43mcallbacks\u001B[49m\u001B[43m,\u001B[49m\n\u001B[0;32m     69\u001B[0m \u001B[43m            \u001B[49m\u001B[43mgc_after_trial\u001B[49m\u001B[43m,\u001B[49m\n\u001B[0;32m     70\u001B[0m \u001B[43m            \u001B[49m\u001B[43mreseed_sampler_rng\u001B[49m\u001B[38;5;241;43m=\u001B[39;49m\u001B[38;5;28;43;01mFalse\u001B[39;49;00m\u001B[43m,\u001B[49m\n\u001B[0;32m     71\u001B[0m \u001B[43m            \u001B[49m\u001B[43mtime_start\u001B[49m\u001B[38;5;241;43m=\u001B[39;49m\u001B[38;5;28;43;01mNone\u001B[39;49;00m\u001B[43m,\u001B[49m\n\u001B[0;32m     72\u001B[0m \u001B[43m            \u001B[49m\u001B[43mprogress_bar\u001B[49m\u001B[38;5;241;43m=\u001B[39;49m\u001B[43mprogress_bar\u001B[49m\u001B[43m,\u001B[49m\n\u001B[0;32m     73\u001B[0m \u001B[43m        \u001B[49m\u001B[43m)\u001B[49m\n\u001B[0;32m     74\u001B[0m     \u001B[38;5;28;01melse\u001B[39;00m:\n\u001B[0;32m     75\u001B[0m         \u001B[38;5;28;01mif\u001B[39;00m n_jobs \u001B[38;5;241m==\u001B[39m \u001B[38;5;241m-\u001B[39m\u001B[38;5;241m1\u001B[39m:\n",
      "File \u001B[1;32m~\\anaconda3\\envs\\alphagen\\lib\\site-packages\\optuna\\study\\_optimize.py:159\u001B[0m, in \u001B[0;36m_optimize_sequential\u001B[1;34m(study, func, n_trials, timeout, catch, callbacks, gc_after_trial, reseed_sampler_rng, time_start, progress_bar)\u001B[0m\n\u001B[0;32m    156\u001B[0m         \u001B[38;5;28;01mbreak\u001B[39;00m\n\u001B[0;32m    158\u001B[0m \u001B[38;5;28;01mtry\u001B[39;00m:\n\u001B[1;32m--> 159\u001B[0m     frozen_trial \u001B[38;5;241m=\u001B[39m \u001B[43m_run_trial\u001B[49m\u001B[43m(\u001B[49m\u001B[43mstudy\u001B[49m\u001B[43m,\u001B[49m\u001B[43m \u001B[49m\u001B[43mfunc\u001B[49m\u001B[43m,\u001B[49m\u001B[43m \u001B[49m\u001B[43mcatch\u001B[49m\u001B[43m)\u001B[49m\n\u001B[0;32m    160\u001B[0m \u001B[38;5;28;01mfinally\u001B[39;00m:\n\u001B[0;32m    161\u001B[0m     \u001B[38;5;66;03m# The following line mitigates memory problems that can be occurred in some\u001B[39;00m\n\u001B[0;32m    162\u001B[0m     \u001B[38;5;66;03m# environments (e.g., services that use computing containers such as GitHub Actions).\u001B[39;00m\n\u001B[0;32m    163\u001B[0m     \u001B[38;5;66;03m# Please refer to the following PR for further details:\u001B[39;00m\n\u001B[0;32m    164\u001B[0m     \u001B[38;5;66;03m# https://github.com/optuna/optuna/pull/325.\u001B[39;00m\n\u001B[0;32m    165\u001B[0m     \u001B[38;5;28;01mif\u001B[39;00m gc_after_trial:\n",
      "File \u001B[1;32m~\\anaconda3\\envs\\alphagen\\lib\\site-packages\\optuna\\study\\_optimize.py:247\u001B[0m, in \u001B[0;36m_run_trial\u001B[1;34m(study, func, catch)\u001B[0m\n\u001B[0;32m    240\u001B[0m         \u001B[38;5;28;01massert\u001B[39;00m \u001B[38;5;28;01mFalse\u001B[39;00m, \u001B[38;5;124m\"\u001B[39m\u001B[38;5;124mShould not reach.\u001B[39m\u001B[38;5;124m\"\u001B[39m\n\u001B[0;32m    242\u001B[0m \u001B[38;5;28;01mif\u001B[39;00m (\n\u001B[0;32m    243\u001B[0m     frozen_trial\u001B[38;5;241m.\u001B[39mstate \u001B[38;5;241m==\u001B[39m TrialState\u001B[38;5;241m.\u001B[39mFAIL\n\u001B[0;32m    244\u001B[0m     \u001B[38;5;129;01mand\u001B[39;00m func_err \u001B[38;5;129;01mis\u001B[39;00m \u001B[38;5;129;01mnot\u001B[39;00m \u001B[38;5;28;01mNone\u001B[39;00m\n\u001B[0;32m    245\u001B[0m     \u001B[38;5;129;01mand\u001B[39;00m \u001B[38;5;129;01mnot\u001B[39;00m \u001B[38;5;28misinstance\u001B[39m(func_err, catch)\n\u001B[0;32m    246\u001B[0m ):\n\u001B[1;32m--> 247\u001B[0m     \u001B[38;5;28;01mraise\u001B[39;00m func_err\n\u001B[0;32m    248\u001B[0m \u001B[38;5;28;01mreturn\u001B[39;00m frozen_trial\n",
      "File \u001B[1;32m~\\anaconda3\\envs\\alphagen\\lib\\site-packages\\optuna\\study\\_optimize.py:196\u001B[0m, in \u001B[0;36m_run_trial\u001B[1;34m(study, func, catch)\u001B[0m\n\u001B[0;32m    194\u001B[0m \u001B[38;5;28;01mwith\u001B[39;00m get_heartbeat_thread(trial\u001B[38;5;241m.\u001B[39m_trial_id, study\u001B[38;5;241m.\u001B[39m_storage):\n\u001B[0;32m    195\u001B[0m     \u001B[38;5;28;01mtry\u001B[39;00m:\n\u001B[1;32m--> 196\u001B[0m         value_or_values \u001B[38;5;241m=\u001B[39m \u001B[43mfunc\u001B[49m\u001B[43m(\u001B[49m\u001B[43mtrial\u001B[49m\u001B[43m)\u001B[49m\n\u001B[0;32m    197\u001B[0m     \u001B[38;5;28;01mexcept\u001B[39;00m exceptions\u001B[38;5;241m.\u001B[39mTrialPruned \u001B[38;5;28;01mas\u001B[39;00m e:\n\u001B[0;32m    198\u001B[0m         \u001B[38;5;66;03m# TODO(mamu): Handle multi-objective cases.\u001B[39;00m\n\u001B[0;32m    199\u001B[0m         state \u001B[38;5;241m=\u001B[39m TrialState\u001B[38;5;241m.\u001B[39mPRUNED\n",
      "Cell \u001B[1;32mIn[10], line 77\u001B[0m, in \u001B[0;36mobjective\u001B[1;34m(trial)\u001B[0m\n\u001B[0;32m     53\u001B[0m learning_rate \u001B[38;5;241m=\u001B[39m trial\u001B[38;5;241m.\u001B[39msuggest_loguniform(\u001B[38;5;124m'\u001B[39m\u001B[38;5;124mlearning_rate\u001B[39m\u001B[38;5;124m'\u001B[39m, \u001B[38;5;241m1e-5\u001B[39m, \u001B[38;5;241m1e-3\u001B[39m)\n\u001B[0;32m     55\u001B[0m model \u001B[38;5;241m=\u001B[39m MaskablePPO(\n\u001B[0;32m     56\u001B[0m     \u001B[38;5;124m'\u001B[39m\u001B[38;5;124mMlpPolicy\u001B[39m\u001B[38;5;124m'\u001B[39m,\n\u001B[0;32m     57\u001B[0m     env,\n\u001B[1;32m   (...)\u001B[0m\n\u001B[0;32m     75\u001B[0m     verbose\u001B[38;5;241m=\u001B[39m\u001B[38;5;241m1\u001B[39m,\n\u001B[0;32m     76\u001B[0m )\n\u001B[1;32m---> 77\u001B[0m \u001B[43mmodel\u001B[49m\u001B[38;5;241;43m.\u001B[39;49m\u001B[43mlearn\u001B[49m\u001B[43m(\u001B[49m\n\u001B[0;32m     78\u001B[0m \u001B[43m    \u001B[49m\u001B[43mtotal_timesteps\u001B[49m\u001B[38;5;241;43m=\u001B[39;49m\u001B[43msteps\u001B[49m\u001B[43m,\u001B[49m\n\u001B[0;32m     79\u001B[0m \u001B[43m    \u001B[49m\u001B[43mtb_log_name\u001B[49m\u001B[38;5;241;43m=\u001B[39;49m\u001B[38;5;124;43mf\u001B[39;49m\u001B[38;5;124;43m'\u001B[39;49m\u001B[38;5;132;43;01m{\u001B[39;49;00m\u001B[43mname_prefix\u001B[49m\u001B[38;5;132;43;01m}\u001B[39;49;00m\u001B[38;5;124;43m_\u001B[39;49m\u001B[38;5;132;43;01m{\u001B[39;49;00m\u001B[43mtimestamp\u001B[49m\u001B[38;5;132;43;01m}\u001B[39;49;00m\u001B[38;5;124;43m'\u001B[39;49m\u001B[43m,\u001B[49m\n\u001B[0;32m     80\u001B[0m \u001B[43m\u001B[49m\u001B[43m)\u001B[49m\n\u001B[0;32m     82\u001B[0m ic_test, rank_ic_test, ir \u001B[38;5;241m=\u001B[39m pool\u001B[38;5;241m.\u001B[39mtest_ensemble(calculator_test)\n\u001B[0;32m     83\u001B[0m \u001B[38;5;28;01mreturn\u001B[39;00m ic_test\n",
      "File \u001B[1;32m~\\anaconda3\\envs\\alphagen\\lib\\site-packages\\sb3_contrib\\ppo_mask\\ppo_mask.py:514\u001B[0m, in \u001B[0;36mMaskablePPO.learn\u001B[1;34m(self, total_timesteps, callback, log_interval, tb_log_name, reset_num_timesteps, use_masking, progress_bar)\u001B[0m\n\u001B[0;32m    502\u001B[0m \u001B[38;5;28;01mdef\u001B[39;00m \u001B[38;5;21mlearn\u001B[39m(\n\u001B[0;32m    503\u001B[0m     \u001B[38;5;28mself\u001B[39m: SelfMaskablePPO,\n\u001B[0;32m    504\u001B[0m     total_timesteps: \u001B[38;5;28mint\u001B[39m,\n\u001B[1;32m   (...)\u001B[0m\n\u001B[0;32m    510\u001B[0m     progress_bar: \u001B[38;5;28mbool\u001B[39m \u001B[38;5;241m=\u001B[39m \u001B[38;5;28;01mFalse\u001B[39;00m,\n\u001B[0;32m    511\u001B[0m ) \u001B[38;5;241m-\u001B[39m\u001B[38;5;241m>\u001B[39m SelfMaskablePPO:\n\u001B[0;32m    512\u001B[0m     iteration \u001B[38;5;241m=\u001B[39m \u001B[38;5;241m0\u001B[39m\n\u001B[1;32m--> 514\u001B[0m     total_timesteps, callback \u001B[38;5;241m=\u001B[39m \u001B[38;5;28;43mself\u001B[39;49m\u001B[38;5;241;43m.\u001B[39;49m\u001B[43m_setup_learn\u001B[49m\u001B[43m(\u001B[49m\n\u001B[0;32m    515\u001B[0m \u001B[43m        \u001B[49m\u001B[43mtotal_timesteps\u001B[49m\u001B[43m,\u001B[49m\n\u001B[0;32m    516\u001B[0m \u001B[43m        \u001B[49m\u001B[43mcallback\u001B[49m\u001B[43m,\u001B[49m\n\u001B[0;32m    517\u001B[0m \u001B[43m        \u001B[49m\u001B[43mreset_num_timesteps\u001B[49m\u001B[43m,\u001B[49m\n\u001B[0;32m    518\u001B[0m \u001B[43m        \u001B[49m\u001B[43mtb_log_name\u001B[49m\u001B[43m,\u001B[49m\n\u001B[0;32m    519\u001B[0m \u001B[43m        \u001B[49m\u001B[43muse_masking\u001B[49m\u001B[43m,\u001B[49m\n\u001B[0;32m    520\u001B[0m \u001B[43m        \u001B[49m\u001B[43mprogress_bar\u001B[49m\u001B[43m,\u001B[49m\n\u001B[0;32m    521\u001B[0m \u001B[43m    \u001B[49m\u001B[43m)\u001B[49m\n\u001B[0;32m    523\u001B[0m     callback\u001B[38;5;241m.\u001B[39mon_training_start(\u001B[38;5;28mlocals\u001B[39m(), \u001B[38;5;28mglobals\u001B[39m())\n\u001B[0;32m    525\u001B[0m     \u001B[38;5;28;01mwhile\u001B[39;00m \u001B[38;5;28mself\u001B[39m\u001B[38;5;241m.\u001B[39mnum_timesteps \u001B[38;5;241m<\u001B[39m total_timesteps:\n",
      "File \u001B[1;32m~\\anaconda3\\envs\\alphagen\\lib\\site-packages\\sb3_contrib\\ppo_mask\\ppo_mask.py:247\u001B[0m, in \u001B[0;36mMaskablePPO._setup_learn\u001B[1;34m(self, total_timesteps, callback, reset_num_timesteps, tb_log_name, use_masking, progress_bar)\u001B[0m\n\u001B[0;32m    245\u001B[0m \u001B[38;5;66;03m# Configure logger's outputs if no logger was passed\u001B[39;00m\n\u001B[0;32m    246\u001B[0m \u001B[38;5;28;01mif\u001B[39;00m \u001B[38;5;129;01mnot\u001B[39;00m \u001B[38;5;28mself\u001B[39m\u001B[38;5;241m.\u001B[39m_custom_logger:\n\u001B[1;32m--> 247\u001B[0m     \u001B[38;5;28mself\u001B[39m\u001B[38;5;241m.\u001B[39m_logger \u001B[38;5;241m=\u001B[39m \u001B[43mutils\u001B[49m\u001B[38;5;241;43m.\u001B[39;49m\u001B[43mconfigure_logger\u001B[49m\u001B[43m(\u001B[49m\u001B[38;5;28;43mself\u001B[39;49m\u001B[38;5;241;43m.\u001B[39;49m\u001B[43mverbose\u001B[49m\u001B[43m,\u001B[49m\u001B[43m \u001B[49m\u001B[38;5;28;43mself\u001B[39;49m\u001B[38;5;241;43m.\u001B[39;49m\u001B[43mtensorboard_log\u001B[49m\u001B[43m,\u001B[49m\u001B[43m \u001B[49m\u001B[43mtb_log_name\u001B[49m\u001B[43m,\u001B[49m\u001B[43m \u001B[49m\u001B[43mreset_num_timesteps\u001B[49m\u001B[43m)\u001B[49m\n\u001B[0;32m    249\u001B[0m \u001B[38;5;66;03m# Create eval callback if needed\u001B[39;00m\n\u001B[0;32m    250\u001B[0m callback \u001B[38;5;241m=\u001B[39m \u001B[38;5;28mself\u001B[39m\u001B[38;5;241m.\u001B[39m_init_callback(callback, use_masking, progress_bar)\n",
      "File \u001B[1;32m~\\anaconda3\\envs\\alphagen\\lib\\site-packages\\stable_baselines3\\common\\utils.py:213\u001B[0m, in \u001B[0;36mconfigure_logger\u001B[1;34m(verbose, tensorboard_log, tb_log_name, reset_num_timesteps)\u001B[0m\n\u001B[0;32m    211\u001B[0m \u001B[38;5;28;01melif\u001B[39;00m verbose \u001B[38;5;241m==\u001B[39m \u001B[38;5;241m0\u001B[39m:\n\u001B[0;32m    212\u001B[0m     format_strings \u001B[38;5;241m=\u001B[39m [\u001B[38;5;124m\"\u001B[39m\u001B[38;5;124m\"\u001B[39m]\n\u001B[1;32m--> 213\u001B[0m \u001B[38;5;28;01mreturn\u001B[39;00m \u001B[43mconfigure\u001B[49m\u001B[43m(\u001B[49m\u001B[43msave_path\u001B[49m\u001B[43m,\u001B[49m\u001B[43m \u001B[49m\u001B[43mformat_strings\u001B[49m\u001B[38;5;241;43m=\u001B[39;49m\u001B[43mformat_strings\u001B[49m\u001B[43m)\u001B[49m\n",
      "File \u001B[1;32m~\\anaconda3\\envs\\alphagen\\lib\\site-packages\\stable_baselines3\\common\\logger.py:657\u001B[0m, in \u001B[0;36mconfigure\u001B[1;34m(folder, format_strings)\u001B[0m\n\u001B[0;32m    654\u001B[0m     format_strings \u001B[38;5;241m=\u001B[39m os\u001B[38;5;241m.\u001B[39mgetenv(\u001B[38;5;124m\"\u001B[39m\u001B[38;5;124mSB3_LOG_FORMAT\u001B[39m\u001B[38;5;124m\"\u001B[39m, \u001B[38;5;124m\"\u001B[39m\u001B[38;5;124mstdout,log,csv\u001B[39m\u001B[38;5;124m\"\u001B[39m)\u001B[38;5;241m.\u001B[39msplit(\u001B[38;5;124m\"\u001B[39m\u001B[38;5;124m,\u001B[39m\u001B[38;5;124m\"\u001B[39m)\n\u001B[0;32m    656\u001B[0m format_strings \u001B[38;5;241m=\u001B[39m \u001B[38;5;28mlist\u001B[39m(\u001B[38;5;28mfilter\u001B[39m(\u001B[38;5;28;01mNone\u001B[39;00m, format_strings))\n\u001B[1;32m--> 657\u001B[0m output_formats \u001B[38;5;241m=\u001B[39m [make_output_format(f, folder, log_suffix) \u001B[38;5;28;01mfor\u001B[39;00m f \u001B[38;5;129;01min\u001B[39;00m format_strings]\n\u001B[0;32m    659\u001B[0m logger \u001B[38;5;241m=\u001B[39m Logger(folder\u001B[38;5;241m=\u001B[39mfolder, output_formats\u001B[38;5;241m=\u001B[39moutput_formats)\n\u001B[0;32m    660\u001B[0m \u001B[38;5;66;03m# Only print when some files will be saved\u001B[39;00m\n",
      "File \u001B[1;32m~\\anaconda3\\envs\\alphagen\\lib\\site-packages\\stable_baselines3\\common\\logger.py:657\u001B[0m, in \u001B[0;36m<listcomp>\u001B[1;34m(.0)\u001B[0m\n\u001B[0;32m    654\u001B[0m     format_strings \u001B[38;5;241m=\u001B[39m os\u001B[38;5;241m.\u001B[39mgetenv(\u001B[38;5;124m\"\u001B[39m\u001B[38;5;124mSB3_LOG_FORMAT\u001B[39m\u001B[38;5;124m\"\u001B[39m, \u001B[38;5;124m\"\u001B[39m\u001B[38;5;124mstdout,log,csv\u001B[39m\u001B[38;5;124m\"\u001B[39m)\u001B[38;5;241m.\u001B[39msplit(\u001B[38;5;124m\"\u001B[39m\u001B[38;5;124m,\u001B[39m\u001B[38;5;124m\"\u001B[39m)\n\u001B[0;32m    656\u001B[0m format_strings \u001B[38;5;241m=\u001B[39m \u001B[38;5;28mlist\u001B[39m(\u001B[38;5;28mfilter\u001B[39m(\u001B[38;5;28;01mNone\u001B[39;00m, format_strings))\n\u001B[1;32m--> 657\u001B[0m output_formats \u001B[38;5;241m=\u001B[39m [\u001B[43mmake_output_format\u001B[49m\u001B[43m(\u001B[49m\u001B[43mf\u001B[49m\u001B[43m,\u001B[49m\u001B[43m \u001B[49m\u001B[43mfolder\u001B[49m\u001B[43m,\u001B[49m\u001B[43m \u001B[49m\u001B[43mlog_suffix\u001B[49m\u001B[43m)\u001B[49m \u001B[38;5;28;01mfor\u001B[39;00m f \u001B[38;5;129;01min\u001B[39;00m format_strings]\n\u001B[0;32m    659\u001B[0m logger \u001B[38;5;241m=\u001B[39m Logger(folder\u001B[38;5;241m=\u001B[39mfolder, output_formats\u001B[38;5;241m=\u001B[39moutput_formats)\n\u001B[0;32m    660\u001B[0m \u001B[38;5;66;03m# Only print when some files will be saved\u001B[39;00m\n",
      "File \u001B[1;32m~\\anaconda3\\envs\\alphagen\\lib\\site-packages\\stable_baselines3\\common\\logger.py:455\u001B[0m, in \u001B[0;36mmake_output_format\u001B[1;34m(_format, log_dir, log_suffix)\u001B[0m\n\u001B[0;32m    453\u001B[0m os\u001B[38;5;241m.\u001B[39mmakedirs(log_dir, exist_ok\u001B[38;5;241m=\u001B[39m\u001B[38;5;28;01mTrue\u001B[39;00m)\n\u001B[0;32m    454\u001B[0m \u001B[38;5;28;01mif\u001B[39;00m _format \u001B[38;5;241m==\u001B[39m \u001B[38;5;124m\"\u001B[39m\u001B[38;5;124mstdout\u001B[39m\u001B[38;5;124m\"\u001B[39m:\n\u001B[1;32m--> 455\u001B[0m     \u001B[38;5;28;01mreturn\u001B[39;00m \u001B[43mHumanOutputFormat\u001B[49m\u001B[43m(\u001B[49m\u001B[43msys\u001B[49m\u001B[38;5;241;43m.\u001B[39;49m\u001B[43mstdout\u001B[49m\u001B[43m)\u001B[49m\n\u001B[0;32m    456\u001B[0m \u001B[38;5;28;01melif\u001B[39;00m _format \u001B[38;5;241m==\u001B[39m \u001B[38;5;124m\"\u001B[39m\u001B[38;5;124mlog\u001B[39m\u001B[38;5;124m\"\u001B[39m:\n\u001B[0;32m    457\u001B[0m     \u001B[38;5;28;01mreturn\u001B[39;00m HumanOutputFormat(os\u001B[38;5;241m.\u001B[39mpath\u001B[38;5;241m.\u001B[39mjoin(log_dir, \u001B[38;5;124mf\u001B[39m\u001B[38;5;124m\"\u001B[39m\u001B[38;5;124mlog\u001B[39m\u001B[38;5;132;01m{\u001B[39;00mlog_suffix\u001B[38;5;132;01m}\u001B[39;00m\u001B[38;5;124m.txt\u001B[39m\u001B[38;5;124m\"\u001B[39m))\n",
      "File \u001B[1;32m~\\anaconda3\\envs\\alphagen\\lib\\site-packages\\stable_baselines3\\common\\logger.py:171\u001B[0m, in \u001B[0;36mHumanOutputFormat.__init__\u001B[1;34m(self, filename_or_file, max_length)\u001B[0m\n\u001B[0;32m    169\u001B[0m     \u001B[38;5;28mself\u001B[39m\u001B[38;5;241m.\u001B[39mown_file \u001B[38;5;241m=\u001B[39m \u001B[38;5;28;01mFalse\u001B[39;00m\n\u001B[0;32m    170\u001B[0m \u001B[38;5;28;01melse\u001B[39;00m:\n\u001B[1;32m--> 171\u001B[0m     \u001B[38;5;28;01mraise\u001B[39;00m \u001B[38;5;167;01mValueError\u001B[39;00m(\u001B[38;5;124mf\u001B[39m\u001B[38;5;124m\"\u001B[39m\u001B[38;5;124mExpected file or str, got \u001B[39m\u001B[38;5;132;01m{\u001B[39;00mfilename_or_file\u001B[38;5;132;01m}\u001B[39;00m\u001B[38;5;124m\"\u001B[39m)\n",
      "\u001B[1;31mValueError\u001B[0m: Expected file or str, got <colorama.ansitowin32.StreamWrapper object at 0x000001A4ED761D90>"
     ]
    }
   ],
   "execution_count": 11
  },
  {
   "metadata": {
    "ExecuteTime": {
     "end_time": "2024-08-08T03:39:18.637893Z",
     "start_time": "2024-08-08T03:39:18.637893Z"
    }
   },
   "cell_type": "code",
   "source": "",
   "id": "d2618c07b139b002",
   "outputs": [],
   "execution_count": null
  }
 ],
 "metadata": {
  "kernelspec": {
   "display_name": "Python 3",
   "language": "python",
   "name": "python3"
  },
  "language_info": {
   "codemirror_mode": {
    "name": "ipython",
    "version": 2
   },
   "file_extension": ".py",
   "mimetype": "text/x-python",
   "name": "python",
   "nbconvert_exporter": "python",
   "pygments_lexer": "ipython2",
   "version": "2.7.6"
  }
 },
 "nbformat": 4,
 "nbformat_minor": 5
}
