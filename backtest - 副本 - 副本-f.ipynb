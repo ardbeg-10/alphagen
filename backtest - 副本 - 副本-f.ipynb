{
 "cells": [
  {
   "cell_type": "code",
   "id": "initial_id",
   "metadata": {
    "ExecuteTime": {
     "end_time": "2024-08-12T06:51:28.801845Z",
     "start_time": "2024-08-12T06:51:25.375491Z"
    }
   },
   "source": [
    "from typing import Optional, TypeVar, Callable, Optional, Tuple\n",
    "import os\n",
    "import pickle\n",
    "import warnings\n",
    "import pandas as pd\n",
    "from pandas import DataFrame\n",
    "from qlib.backtest import backtest, executor as exec\n",
    "from qlib.contrib.evaluate import risk_analysis\n",
    "from qlib.contrib.report.analysis_position import report_graph\n",
    "from alphagen.data.expression import *\n",
    "\n",
    "from alphagen_qlib.stock_data import StockData\n",
    "from alphagen_generic.features import *\n",
    "from alphagen_qlib.strategy import TopKSwapNStrategy\n",
    "from alphagen_qlib.neutral_strategy import MarketNeutralStrategy\n",
    "from lightgbm import LGBMRegressor\n",
    "\n",
    "import json\n",
    "\n",
    "_T = TypeVar(\"_T\")"
   ],
   "outputs": [],
   "execution_count": 1
  },
  {
   "cell_type": "code",
   "id": "d50b6d62-7763-49ad-9005-d66e9c34c0fc",
   "metadata": {
    "ExecuteTime": {
     "end_time": "2024-08-12T06:51:28.817844Z",
     "start_time": "2024-08-12T06:51:28.802828Z"
    }
   },
   "source": [
    "def _create_parents(path: str) -> None:\n",
    "    dir = os.path.dirname(path)\n",
    "    if dir != \"\":\n",
    "        os.makedirs(dir, exist_ok=True)\n",
    "\n",
    "\n",
    "def write_all_text(path: str, text: str) -> None:\n",
    "    _create_parents(path)\n",
    "    with open(path, \"w\") as f:\n",
    "        f.write(text)\n",
    "\n",
    "\n",
    "def dump_pickle(path: str,\n",
    "                factory: Callable[[], _T],\n",
    "                invalidate_cache: bool = False) -> Optional[_T]:\n",
    "    if invalidate_cache or not os.path.exists(path):\n",
    "        _create_parents(path)\n",
    "        obj = factory()\n",
    "        with open(path, \"wb\") as f:\n",
    "            pickle.dump(obj, f)\n",
    "        return obj\n"
   ],
   "outputs": [],
   "execution_count": 2
  },
  {
   "cell_type": "code",
   "id": "3919423ff75d6080",
   "metadata": {
    "ExecuteTime": {
     "end_time": "2024-08-12T06:51:28.833827Z",
     "start_time": "2024-08-12T06:51:28.818828Z"
    }
   },
   "source": [
    "class BacktestResult(dict):\n",
    "    sharpe: float\n",
    "    annual_return: float\n",
    "    max_drawdown: float\n",
    "    information_ratio: float\n",
    "    annual_excess_return: float\n",
    "    excess_max_drawdown: float\n",
    "\n",
    "\n",
    "class QlibBacktest:\n",
    "    def __init__(\n",
    "        self,\n",
    "        benchmark: str = \"SH000905\",\n",
    "        top_k: int = 50,\n",
    "        n_drop: Optional[int] = None,\n",
    "        deal: str = \"close\",\n",
    "        open_cost: float = 0.0015,\n",
    "        close_cost: float = 0.0015,\n",
    "        min_cost: float = 5,\n",
    "    ):\n",
    "        self._benchmark = benchmark\n",
    "        self._top_k = top_k\n",
    "        self._n_drop = n_drop if n_drop is not None else top_k\n",
    "        self._deal_price = deal\n",
    "        self._open_cost = open_cost\n",
    "        self._close_cost = close_cost\n",
    "        self._min_cost = min_cost\n",
    "\n",
    "    def run(\n",
    "        self,\n",
    "        prediction: pd.Series,\n",
    "        output_prefix: Optional[str] = '~/backtest',\n",
    "        return_report: bool = False\n",
    "    ) -> BacktestResult:\n",
    "        prediction = prediction.sort_index()\n",
    "        index: pd.MultiIndex = prediction.index.remove_unused_levels()  # type: ignore\n",
    "        dates = index.levels[0]\n",
    "\n",
    "        def backtest_impl(last: int = -1):\n",
    "            with warnings.catch_warnings():\n",
    "                warnings.simplefilter(\"ignore\")\n",
    "                strategy=TopKSwapNStrategy(\n",
    "                    K=self._top_k,\n",
    "                    n_swap=self._top_k,\n",
    "                    signal=prediction,\n",
    "                    min_hold_days=1,\n",
    "                    only_tradable=True,\n",
    "                )\n",
    "                executor=exec.SimulatorExecutor(\n",
    "                    time_per_step=\"day\",\n",
    "                    generate_portfolio_metrics=True\n",
    "                )\n",
    "                return backtest(\n",
    "                    strategy=strategy,\n",
    "                    executor=executor,\n",
    "                    start_time=dates[0],\n",
    "                    end_time=dates[last],\n",
    "                    account=5_000_000,\n",
    "                    benchmark=self._benchmark,\n",
    "                    exchange_kwargs={\n",
    "                        \"limit_threshold\": 0.095,\n",
    "                        \"deal_price\": self._deal_price,\n",
    "                        \"open_cost\": self._open_cost,\n",
    "                        \"close_cost\": self._close_cost,\n",
    "                        \"min_cost\": self._min_cost,\n",
    "                    }\n",
    "                )[0]\n",
    "\n",
    "        try:\n",
    "            portfolio_metric = backtest_impl()\n",
    "        except IndexError:\n",
    "            print(\"Cannot backtest till the last day, trying again with one less day\")\n",
    "            portfolio_metric = backtest_impl(-2)\n",
    "\n",
    "        report, _ = portfolio_metric[\"1day\"]    # type: ignore\n",
    "        result = self._analyze_report(report)\n",
    "        \n",
    "        try: \n",
    "            report_graph(report)\n",
    "        except Exception as e:\n",
    "            print(f\"Failed to generate report graph: {e}\")\n",
    "\n",
    "        if output_prefix is not None:\n",
    "            dump_pickle(output_prefix + \"/report.pkl\", lambda: report, True)\n",
    "            # dump_pickle(output_prefix + \"/graph.pkl\", lambda: graph, True)\n",
    "            result_json = json.dumps(result, indent=4)\n",
    "            write_all_text(output_prefix + \"/result.json\", result_json)\n",
    "\n",
    "        print(report)\n",
    "        print(result)\n",
    "        return report if return_report else result\n",
    "\n",
    "    def _analyze_report(self, report: pd.DataFrame) -> BacktestResult:\n",
    "        excess = risk_analysis(report[\"return\"] - report[\"bench\"] - report[\"cost\"])[\"risk\"]\n",
    "        returns = risk_analysis(report[\"return\"] - report[\"cost\"])[\"risk\"]\n",
    "\n",
    "        def loc(series: pd.Series, field: str) -> float:\n",
    "            return series.loc[field]    # type: ignore\n",
    "\n",
    "        return BacktestResult(\n",
    "            sharpe=loc(returns, \"information_ratio\"),\n",
    "            annual_return=loc(returns, \"annualized_return\"),\n",
    "            max_drawdown=loc(returns, \"max_drawdown\"),\n",
    "            information_ratio=loc(excess, \"information_ratio\"),\n",
    "            annual_excess_return=loc(excess, \"annualized_return\"),\n",
    "            excess_max_drawdown=loc(excess, \"max_drawdown\"),\n",
    "        )\n",
    "    \n"
   ],
   "outputs": [],
   "execution_count": 3
  },
  {
   "cell_type": "code",
   "id": "6b8daf26b3e84e8d",
   "metadata": {
    "ExecuteTime": {
     "end_time": "2024-08-12T06:51:28.849850Z",
     "start_time": "2024-08-12T06:51:28.834830Z"
    }
   },
   "source": [
    "import numpy as np\n",
    "from lightgbm import Booster\n",
    "from alphagen_qlib.utils import load_alpha_pool_by_path, load_dt_model_by_path\n",
    "from alphagen_qlib.calculator import QLibStockDataCalculator\n",
    "from alphagen.utils.pytorch_utils import normalize_by_day\n",
    "from alphagen.data.calculator import AlphaCalculator\n",
    "from alphagen.utils.correlation import batch_pearsonr, batch_spearmanr"
   ],
   "outputs": [],
   "execution_count": 4
  },
  {
   "cell_type": "code",
   "id": "9b91162a-2d16-493f-81cd-1428b19b4086",
   "metadata": {
    "ExecuteTime": {
     "end_time": "2024-08-12T06:51:28.865905Z",
     "start_time": "2024-08-12T06:51:28.850851Z"
    }
   },
   "source": [
    "def make_ensemble_alpha(exprs: List[Expression], model: Booster) -> Tensor:\n",
    "    n = len(exprs)\n",
    "    return torch.from_numpy(predict(model, exprs)).to(data.device)\n",
    "\n",
    "def predict(model: Booster, exprs: List[Expression]) -> np.ndarray:\n",
    "    X = torch.stack([_calc_alpha(expr) for expr in exprs], dim=-1).cpu().numpy()\n",
    "    X = X.reshape(-1, X.shape[-1])\n",
    "    val = model.predict(X)\n",
    "    return unstack(val)\n",
    "\n",
    "def unstack(value: np.ndarray) -> np.ndarray:\n",
    "    return value.reshape(data.n_days, data.n_stocks)\n",
    "\n",
    "def _calc_alpha(expr: Expression) -> Tensor:\n",
    "    return normalize_by_day(expr.evaluate(data))\n",
    "\n",
    "def _calc_ICs(value1: Tensor, value2: Tensor) -> Tensor:\n",
    "    return batch_pearsonr(value1, value2)\n",
    "\n",
    "def _calc_IC(value1: Tensor, value2: Tensor) -> float:\n",
    "    return batch_pearsonr(value1, value2).mean().item()\n",
    "\n",
    "def _calc_IR(value1: Tensor, value2: Tensor) -> float:\n",
    "    ICs = _calc_ICs(value1, value2)\n",
    "    IC_mean = ICs.mean().item()\n",
    "    IC_std = ICs.std().item()\n",
    "    epsilon = 1e-10  # 防止除以零的小值\n",
    "    IR = IC_mean / (IC_std - epsilon)\n",
    "    return IR\n",
    "\n",
    "def test_ensemble(exprs: List[Expression], model: Booster, calculator: AlphaCalculator) -> Tuple[float, float]:\n",
    "    return calc_pool_all_ret(exprs, calculator.target_value, model)\n",
    "\n",
    "def calc_pool_all_ret(exprs: List[Expression], target: Tensor, model: Booster) -> Tuple[float, float]:\n",
    "    with torch.no_grad():\n",
    "        ensemble_value = make_ensemble_alpha(exprs, model)\n",
    "        return _calc_IC(ensemble_value, target), _calc_IR(ensemble_value, target)"
   ],
   "outputs": [],
   "execution_count": 5
  },
  {
   "metadata": {
    "ExecuteTime": {
     "end_time": "2024-08-12T07:14:19.244873Z",
     "start_time": "2024-08-12T07:14:03.939902Z"
    }
   },
   "cell_type": "code",
   "source": [
    "POOL_PATH = 'model/10240_steps_pool.json'\n",
    "DT_PATH = 'model/boostered_3.txt'\n",
    "\n",
    "qlib_backtest = QlibBacktest()\n",
    "\n",
    "data = StockData(instrument='csi500',\n",
    "                 start_time='2024-04-02',\n",
    "                 end_time='2024-07-02',\n",
    "                 max_future_days=21,\n",
    "                 )\n",
    "\n",
    "close = Feature(FeatureType.CLOSE)\n",
    "target = Ref(close, -20) / close - 1"
   ],
   "id": "88032febeb205a45",
   "outputs": [],
   "execution_count": 45
  },
  {
   "cell_type": "code",
   "id": "c8614105-2163-4a0d-a1ab-357efef5ab3c",
   "metadata": {
    "scrolled": true,
    "ExecuteTime": {
     "end_time": "2024-08-12T07:14:19.575364Z",
     "start_time": "2024-08-12T07:14:19.245831Z"
    }
   },
   "source": [
    "calculator = QLibStockDataCalculator(data=data, target=target)\n",
    "exprs, _ = load_alpha_pool_by_path(POOL_PATH)\n",
    "booster = load_dt_model_by_path(DT_PATH)\n",
    "\n",
    "ensemble_alpha = make_ensemble_alpha(exprs, booster)\n",
    "df = data.make_dataframe(ensemble_alpha)\n",
    "\n",
    "print(test_ensemble(exprs, booster, calculator))\n",
    "\n",
    "# qlib_backtest.run(df)"
   ],
   "outputs": [
    {
     "name": "stdout",
     "output_type": "stream",
     "text": [
      "(0.08730595194790436, 1.1435211791489754)\n"
     ]
    }
   ],
   "execution_count": 46
  },
  {
   "metadata": {
    "ExecuteTime": {
     "end_time": "2024-08-12T06:51:49.237895Z",
     "start_time": "2024-08-12T06:51:49.223892Z"
    }
   },
   "cell_type": "code",
   "source": "#(0.09331640114307266, 1.0403312503190587)",
   "id": "9ba5c6d2d3d92302",
   "outputs": [],
   "execution_count": 8
  }
 ],
 "metadata": {
  "kernelspec": {
   "display_name": "Python 3 (ipykernel)",
   "language": "python",
   "name": "python3"
  },
  "language_info": {
   "codemirror_mode": {
    "name": "ipython",
    "version": 3
   },
   "file_extension": ".py",
   "mimetype": "text/x-python",
   "name": "python",
   "nbconvert_exporter": "python",
   "pygments_lexer": "ipython3",
   "version": "3.8.19"
  }
 },
 "nbformat": 4,
 "nbformat_minor": 5
}
